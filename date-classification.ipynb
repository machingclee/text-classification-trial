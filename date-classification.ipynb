{
 "cells": [
  {
   "cell_type": "code",
   "execution_count": 34,
   "id": "2ba7fc6f",
   "metadata": {},
   "outputs": [],
   "source": [
    "from faker import Faker\n",
    "from tensorflow.keras.layers import RepeatVector, Concatenate, Dense, Dot, Activation\n",
    "from tensorflow.keras.layers import Input, Bidirectional, LSTM\n",
    "from tensorflow.keras.models import Model\n",
    "from tensorflow.keras.optimizers import Adam\n",
    "from tensorflow.keras.models import load_model\n",
    "\n",
    "import numpy as np\n",
    "import random\n",
    "from babel.dates import format_date\n",
    "import os \n",
    "\n",
    "os.environ[\"TF_FORCE_GPU_ALLOW_GROWTH\"]=\"true\""
   ]
  },
  {
   "cell_type": "code",
   "execution_count": 36,
   "id": "145c94be",
   "metadata": {},
   "outputs": [],
   "source": [
    "faker = Faker()\n",
    "np.random.seed(5)\n",
    "BATCH_SIZE=128\n",
    "MODEL_OUTPUT_PATH=\"./output/date-formatter.hdf5\""
   ]
  },
  {
   "cell_type": "code",
   "execution_count": 19,
   "id": "25fcc685",
   "metadata": {},
   "outputs": [
    {
     "name": "stdout",
     "output_type": "stream",
     "text": [
      "short => 4/4/79\n",
      "medium => Oct 31, 1984\n",
      "medium => Dec 22, 1979\n",
      "medium => Jan 10, 2015\n",
      "long => October 4, 2019\n",
      "long => August 11, 2005\n",
      "long => April 26, 1973\n",
      "long => January 26, 1999\n",
      "long => September 25, 2004\n",
      "full => Friday, June 9, 2000\n",
      "full => Saturday, March 12, 2005\n",
      "full => Sunday, July 24, 1977\n",
      "d MMM YYY => 11 Sep 2001\n",
      "d MMMM YYY => 3 March 1971\n",
      "d MMMM YYY => 17 July 1988\n",
      "d MMMM YYY => 18 April 2003\n",
      "d MMMM YYY => 24 January 1979\n",
      "d MMMM YYY => 13 November 2001\n",
      "dd/MM/YYY => 01/01/1981\n",
      "EE d, MMM YYY => Tue 6, Feb 1973\n",
      "EEEE d, MMMM YYY => Friday 1, December 1972\n",
      "MMM d, YYY => Feb 15, 1992\n",
      "MMMM d, YYY => December 16, 2020\n",
      "YYY, d MMM => 2017, 26 Oct\n",
      "YYY, d MMMM => 1977, 8 September\n",
      "EE YYY, d MMMM => Tue 2009, 6 October\n",
      "EEEE YYY, d MM => Sunday 2004, 21 03\n"
     ]
    }
   ],
   "source": [
    "FORMATS = ['short',\n",
    "           'medium',\n",
    "           'medium',\n",
    "           'medium',\n",
    "           'long','long',\n",
    "           'long','long',\n",
    "           'long','full',\n",
    "           'full','full',\n",
    "           'd MMM YYY',\n",
    "           'd MMMM YYY',\n",
    "           'd MMMM YYY',\n",
    "           'd MMMM YYY',\n",
    "           'd MMMM YYY',\n",
    "           'd MMMM YYY',\n",
    "           'dd/MM/YYY',\n",
    "           'EE d, MMM YYY',\n",
    "           'EEEE d, MMMM YYY',\n",
    "           'MMM d, YYY',\n",
    "           'MMMM d, YYY',\n",
    "           'YYY, d MMM',\n",
    "           'YYY, d MMMM',\n",
    "           'EE YYY, d MMMM',\n",
    "           'EEEE YYY, d MM'\n",
    "          ]\n",
    "for format in FORMATS:\n",
    "    print('%s => %s' %(format, format_date(faker.date_object(), format=format, locale='en')))"
   ]
  },
  {
   "cell_type": "code",
   "execution_count": 20,
   "id": "e2cf5805",
   "metadata": {},
   "outputs": [],
   "source": [
    "def random_date():\n",
    "    dt = faker.date_time_between(start_date = '-500y',end_date='+50y')\n",
    "    try:\n",
    "        date = format_date(dt, format=random.choice(FORMATS), locale='en')\n",
    "        human_readable = date.lower().replace(',', '')\n",
    "        machine_readable =  format_date(dt, format=\"YYYY-MM-dd\", locale='en')\n",
    "    except AttributeError as e:\n",
    "        return None, None, None\n",
    "    return human_readable, machine_readable"
   ]
  },
  {
   "cell_type": "code",
   "execution_count": 21,
   "id": "3e702519",
   "metadata": {},
   "outputs": [
    {
     "data": {
      "text/plain": [
       "('thursday 1877 19 04', '1877-04-19')"
      ]
     },
     "execution_count": 21,
     "metadata": {},
     "output_type": "execute_result"
    }
   ],
   "source": [
    "random_date()"
   ]
  },
  {
   "cell_type": "code",
   "execution_count": 22,
   "id": "5b1073f5",
   "metadata": {},
   "outputs": [
    {
     "name": "stdout",
     "output_type": "stream",
     "text": [
      "51200 36 12\n"
     ]
    },
    {
     "data": {
      "text/plain": [
       "[('friday 7 november 1862', '1862-11-07'),\n",
       " ('fri 8 oct 1909', '1909-10-08'),\n",
       " ('december 10 1618', '1618-12-10'),\n",
       " ('friday july 25 1947', '1947-07-25'),\n",
       " ('november 19 1797', '1797-11-19'),\n",
       " ('mar 2 1884', '1884-03-02'),\n",
       " ('1786 7 sep', '1786-09-07'),\n",
       " ('25/09/1912', '1912-09-25'),\n",
       " ('dec 23 2064', '2064-12-23'),\n",
       " ('1594 4 march', '1594-03-04')]"
      ]
     },
     "execution_count": 22,
     "metadata": {},
     "output_type": "execute_result"
    }
   ],
   "source": [
    "human_vocab = set()\n",
    "machine_vocab = set()\n",
    "dataset = []\n",
    "m = int(BATCH_SIZE*100*4)\n",
    "\n",
    "for i in range(m):\n",
    "  hd,md = random_date()\n",
    "  dataset.append((hd,md))\n",
    "  human_vocab.update( tuple(hd) )\n",
    "  machine_vocab.update( tuple(md) )\n",
    "    \n",
    "# self-made tokenization\n",
    "  \n",
    "human_vocab.update(('<pad>','<unk>'))\n",
    "human_vocab = dict(enumerate(human_vocab))\n",
    "# human_vocab = tokenizer.word_index\n",
    "human_vocab = { v:i for i,v in human_vocab.items()  }\n",
    "human_vocab_index_word = dict(enumerate(human_vocab))\n",
    "\n",
    "machine_vocab.add('<unk>')\n",
    "machine_vocab = dict(enumerate(machine_vocab))\n",
    "# word_index\n",
    "inv_machine_vocab = { v:i for i,v in machine_vocab.items()}\n",
    "\n",
    "print(len(dataset),len(human_vocab),len(machine_vocab))\n",
    "dataset[:10]"
   ]
  },
  {
   "cell_type": "code",
   "execution_count": 23,
   "id": "327881f6",
   "metadata": {},
   "outputs": [],
   "source": [
    "#test set\n",
    "t = BATCH_SIZE*10*4\n",
    "testset= []\n",
    "for i in range(t):\n",
    "  hd,md = random_date()\n",
    "  testset.append((hd,md))"
   ]
  },
  {
   "cell_type": "code",
   "execution_count": 24,
   "id": "4a005960",
   "metadata": {},
   "outputs": [
    {
     "name": "stdout",
     "output_type": "stream",
     "text": [
      "36 12\n"
     ]
    }
   ],
   "source": [
    "HUMAN_VOCAB = len(human_vocab)\n",
    "MACHINE_VOCAB = len(machine_vocab)\n",
    "batch_size=128\n",
    "Tx = 30\n",
    "Ty = 10\n",
    "print( HUMAN_VOCAB, MACHINE_VOCAB )"
   ]
  },
  {
   "cell_type": "code",
   "execution_count": 25,
   "id": "645cf445",
   "metadata": {},
   "outputs": [],
   "source": [
    "def string_to_ohe(string, T, vocab):\n",
    "    # in a seq-to-seq model batch of one-hot vectors is the expected output of the final softmax layer\n",
    "    # vocab play the role as tokenizer.word_index, i.e., word to index\n",
    "    # in the past I work on tokenizing words, this time we tokenizer every single characters\n",
    "    string = string.lower()\n",
    "    arr = []\n",
    "    while len(arr) < len(string):\n",
    "        curr_index = len(arr)\n",
    "        arr.append(vocab.get(string[curr_index], vocab['<unk>']))\n",
    "\n",
    "    while len(arr) < T:\n",
    "        arr.append(vocab['<pad>'])\n",
    "    \n",
    "    onehot = np.zeros((T,len(vocab)))\n",
    "    for i in range(T):\n",
    "        onehot[i, arr[i]] = 1\n",
    "        \n",
    "    return onehot, arr\n",
    "\n",
    "def output_to_date(out, vocab):\n",
    "    # this time the \"vocab\" is index_word\n",
    "    arr = np.argmax(out,axis=-1)\n",
    "    string = ''\n",
    "    for i in arr:\n",
    "        string += vocab[i]\n",
    "        \n",
    "    return string"
   ]
  },
  {
   "cell_type": "code",
   "execution_count": 26,
   "id": "f29b9462",
   "metadata": {},
   "outputs": [
    {
     "data": {
      "text/plain": [
       "((51200, 30, 36), (51200, 10, 12))"
      ]
     },
     "execution_count": 26,
     "metadata": {},
     "output_type": "execute_result"
    }
   ],
   "source": [
    "X = []\n",
    "Y = []\n",
    "\n",
    "for x,y in dataset:\n",
    "    X.append(string_to_ohe(x, Tx, human_vocab)[0])\n",
    "    Y.append(string_to_ohe(y, Ty, inv_machine_vocab)[0])\n",
    "    \n",
    "X = np.array(X)\n",
    "Y = np.array(Y)\n",
    "X.shape, Y.shape"
   ]
  },
  {
   "cell_type": "code",
   "execution_count": 27,
   "id": "938b7337",
   "metadata": {},
   "outputs": [
    {
     "data": {
      "text/plain": [
       "'7 mar 1875<pad><pad><pad><pad><pad><pad><pad><pad><pad><pad><pad><pad><pad><pad><pad><pad><pad><pad><pad><pad>'"
      ]
     },
     "execution_count": 27,
     "metadata": {},
     "output_type": "execute_result"
    }
   ],
   "source": [
    "output_to_date(X[random.randint(0,50000)], human_vocab_index_word)"
   ]
  },
  {
   "cell_type": "code",
   "execution_count": 28,
   "id": "0b4e2f3b",
   "metadata": {},
   "outputs": [
    {
     "data": {
      "text/plain": [
       "((5120, 30, 36), (5120, 10, 12))"
      ]
     },
     "execution_count": 28,
     "metadata": {},
     "output_type": "execute_result"
    }
   ],
   "source": [
    "Xt = []\n",
    "Yt = []\n",
    "\n",
    "for x,y in testset:\n",
    "    Xt.append(string_to_ohe(x, Tx, human_vocab)[0])\n",
    "    Yt.append(string_to_ohe(y, Ty, inv_machine_vocab)[0])\n",
    "    \n",
    "Xt,Yt = np.array(Xt), np.array(Yt)\n",
    "Xt.shape, Yt.shape"
   ]
  },
  {
   "cell_type": "code",
   "execution_count": 29,
   "id": "dd933378",
   "metadata": {},
   "outputs": [],
   "source": [
    "#combines activations generated from BiLSTM with previous state of Post LSTM cell to get attention to be given to each timestep\n",
    "#heart of attention model\n",
    "\n",
    "def one_step_attention(a, s_prev):\n",
    "    x = RepeatVector(Tx)(s_prev)             \n",
    "    # this is to make use of all the information from output hidden state from the first LSTM layer\n",
    "    # and \"current\" hidden state of second LSTM layer\\\n",
    "    # shape of a: (none, T_x, 2*H_encoder), shape off current x: (none, T_x, H_decoder)\n",
    "    x = Concatenate(axis=-1)([a, x])        \n",
    "    # shape of x: (none, T_x, 2*H_encoder + H_decoder)\n",
    "    e = Dense(Ty, activation='tanh')(x)    \n",
    "    energy = Dense(1, activation='relu')(e) \n",
    "    # shape of energy: (none, T_x, 1)\n",
    "    alphas = Activation('softmax')(energy)\n",
    "    # shape of alphas: (none, T_x)\n",
    "    # alphas are the attention weight\n",
    "    # therefore context is the weighted sum of our first LSTM layer's hidden state\n",
    "    # context can be thought of as fine-tuned output hidden state that is to be fed into decoder LSTM model\n",
    "    context = Dot(axes=1)([alphas,a])\n",
    "    \n",
    "    return context"
   ]
  },
  {
   "cell_type": "markdown",
   "id": "758c8581",
   "metadata": {},
   "source": [
    "<img width=\"50%\" src=\"./attention_mechanism_2.png\"><img width=\"90%\" src=\"./attention_mechanism_1.png\">"
   ]
  },
  {
   "cell_type": "code",
   "execution_count": 30,
   "id": "f9350d4d",
   "metadata": {},
   "outputs": [],
   "source": [
    "n_a = 32 #pre attention LSTM state, since Bi directional attention=64\n",
    "n_s = 64 #post attention LSTM state\n",
    "\n",
    "inp = Input((Tx, HUMAN_VOCAB))\n",
    "s0 = Input((n_s,))\n",
    "c0 = Input((n_s,))\n",
    "\n",
    "outputs = []\n",
    "\n",
    "s = s0\n",
    "c = c0\n",
    "a = Bidirectional(\n",
    "    LSTM(\n",
    "        n_a, \n",
    "        batch_input_shape=(batch_size, Tx, HUMAN_VOCAB),\n",
    "        return_sequences=True\n",
    "    ))(inp) #generate hidden state for every timestep\n",
    "\n",
    "postLSTM = LSTM(n_s, return_state = True)\n",
    "\n",
    "output = Dense(MACHINE_VOCAB, activation='softmax') #our final output layer\n",
    "\n",
    "for _ in range(Ty): #iterate for every output step\n",
    "    context = one_step_attention(a, s) #get context\n",
    "    s, _, c = postLSTM(context, initial_state=[s, c]) #generate cell_state_seq(currently 1), cell_state, memory  \n",
    "    out = output(s)\n",
    "    outputs.append(out)\n",
    "  \n",
    "model = Model([inp, s0, c0], outputs)"
   ]
  },
  {
   "cell_type": "code",
   "execution_count": 31,
   "id": "da5d88a4",
   "metadata": {},
   "outputs": [
    {
     "name": "stdout",
     "output_type": "stream",
     "text": [
      "Epoch 1/100\n",
      "400/400 [==============================] - 37s 51ms/step - loss: 15.7731 - dense_loss: 0.6692 - dense_1_loss: 1.6972 - dense_2_loss: 1.9641 - dense_3_loss: 2.0815 - dense_4_loss: 0.9155 - dense_5_loss: 1.2792 - dense_6_loss: 2.1925 - dense_7_loss: 1.0459 - dense_8_loss: 1.6271 - dense_9_loss: 2.3009 - dense_acc: 0.8630 - dense_1_acc: 0.3712 - dense_2_acc: 0.2845 - dense_3_acc: 0.2458 - dense_4_acc: 0.8092 - dense_5_acc: 0.4226 - dense_6_acc: 0.2048 - dense_7_acc: 0.7065 - dense_8_acc: 0.3104 - dense_9_acc: 0.1720 - val_loss: 6.8830 - val_dense_loss: 0.1514 - val_dense_1_loss: 0.9220 - val_dense_2_loss: 1.3535 - val_dense_3_loss: 1.3714 - val_dense_4_loss: 0.0163 - val_dense_5_loss: 0.1255 - val_dense_6_loss: 0.7013 - val_dense_7_loss: 0.0206 - val_dense_8_loss: 0.6963 - val_dense_9_loss: 1.5247 - val_dense_acc: 0.9508 - val_dense_1_acc: 0.6049 - val_dense_2_acc: 0.4369 - val_dense_3_acc: 0.4316 - val_dense_4_acc: 1.0000 - val_dense_5_acc: 0.9771 - val_dense_6_acc: 0.8334 - val_dense_7_acc: 0.9998 - val_dense_8_acc: 0.7344 - val_dense_9_acc: 0.3906\n",
      "Epoch 2/100\n",
      "400/400 [==============================] - 16s 41ms/step - loss: 6.3805 - dense_loss: 0.1443 - dense_1_loss: 0.8647 - dense_2_loss: 1.2902 - dense_3_loss: 1.3188 - dense_4_loss: 0.0130 - dense_5_loss: 0.1113 - dense_6_loss: 0.5905 - dense_7_loss: 0.0194 - dense_8_loss: 0.6237 - dense_9_loss: 1.4047 - dense_acc: 0.9537 - dense_1_acc: 0.6323 - dense_2_acc: 0.4513 - dense_3_acc: 0.4534 - dense_4_acc: 1.0000 - dense_5_acc: 0.9763 - dense_6_acc: 0.8699 - dense_7_acc: 0.9997 - dense_8_acc: 0.7666 - dense_9_acc: 0.4511 - val_loss: 5.2715 - val_dense_loss: 0.1112 - val_dense_1_loss: 0.7957 - val_dense_2_loss: 1.2171 - val_dense_3_loss: 1.1369 - val_dense_4_loss: 0.0075 - val_dense_5_loss: 0.0751 - val_dense_6_loss: 0.4132 - val_dense_7_loss: 0.0110 - val_dense_8_loss: 0.4650 - val_dense_9_loss: 1.0389 - val_dense_acc: 0.9633 - val_dense_1_acc: 0.6555 - val_dense_2_acc: 0.4568 - val_dense_3_acc: 0.5219 - val_dense_4_acc: 1.0000 - val_dense_5_acc: 0.9803 - val_dense_6_acc: 0.9043 - val_dense_7_acc: 1.0000 - val_dense_8_acc: 0.8436 - val_dense_9_acc: 0.6268\n",
      "Epoch 3/100\n",
      "400/400 [==============================] - 16s 41ms/step - loss: 4.9949 - dense_loss: 0.1097 - dense_1_loss: 0.7656 - dense_2_loss: 1.1832 - dense_3_loss: 1.0860 - dense_4_loss: 0.0075 - dense_5_loss: 0.0724 - dense_6_loss: 0.3833 - dense_7_loss: 0.0112 - dense_8_loss: 0.4355 - dense_9_loss: 0.9405 - dense_acc: 0.9654 - dense_1_acc: 0.6623 - dense_2_acc: 0.4637 - dense_3_acc: 0.5336 - dense_4_acc: 1.0000 - dense_5_acc: 0.9809 - dense_6_acc: 0.9133 - dense_7_acc: 0.9999 - dense_8_acc: 0.8569 - dense_9_acc: 0.6799 - val_loss: 4.4542 - val_dense_loss: 0.0884 - val_dense_1_loss: 0.7322 - val_dense_2_loss: 1.1456 - val_dense_3_loss: 0.9851 - val_dense_4_loss: 0.0063 - val_dense_5_loss: 0.0539 - val_dense_6_loss: 0.3109 - val_dense_7_loss: 0.0079 - val_dense_8_loss: 0.3485 - val_dense_9_loss: 0.7754 - val_dense_acc: 0.9697 - val_dense_1_acc: 0.6850 - val_dense_2_acc: 0.4592 - val_dense_3_acc: 0.5748 - val_dense_4_acc: 1.0000 - val_dense_5_acc: 0.9838 - val_dense_6_acc: 0.9240 - val_dense_7_acc: 1.0000 - val_dense_8_acc: 0.8893 - val_dense_9_acc: 0.7490\n",
      "Epoch 4/100\n",
      "400/400 [==============================] - 16s 41ms/step - loss: 4.3111 - dense_loss: 0.0906 - dense_1_loss: 0.7099 - dense_2_loss: 1.1157 - dense_3_loss: 0.9456 - dense_4_loss: 0.0056 - dense_5_loss: 0.0562 - dense_6_loss: 0.3102 - dense_7_loss: 0.0080 - dense_8_loss: 0.3385 - dense_9_loss: 0.7309 - dense_acc: 0.9699 - dense_1_acc: 0.6981 - dense_2_acc: 0.4702 - dense_3_acc: 0.5975 - dense_4_acc: 1.0000 - dense_5_acc: 0.9844 - dense_6_acc: 0.9266 - dense_7_acc: 0.9999 - dense_8_acc: 0.8919 - dense_9_acc: 0.7654 - val_loss: 3.9908 - val_dense_loss: 0.0716 - val_dense_1_loss: 0.6722 - val_dense_2_loss: 1.0971 - val_dense_3_loss: 0.8708 - val_dense_4_loss: 0.0043 - val_dense_5_loss: 0.0510 - val_dense_6_loss: 0.2744 - val_dense_7_loss: 0.0062 - val_dense_8_loss: 0.3013 - val_dense_9_loss: 0.6420 - val_dense_acc: 0.9773 - val_dense_1_acc: 0.7236 - val_dense_2_acc: 0.4605 - val_dense_3_acc: 0.6461 - val_dense_4_acc: 1.0000 - val_dense_5_acc: 0.9832 - val_dense_6_acc: 0.9309 - val_dense_7_acc: 1.0000 - val_dense_8_acc: 0.9000 - val_dense_9_acc: 0.7943\n",
      "Epoch 5/100\n",
      "400/400 [==============================] - 16s 41ms/step - loss: 3.8772 - dense_loss: 0.0750 - dense_1_loss: 0.6457 - dense_2_loss: 1.0671 - dense_3_loss: 0.8531 - dense_4_loss: 0.0044 - dense_5_loss: 0.0495 - dense_6_loss: 0.2715 - dense_7_loss: 0.0062 - dense_8_loss: 0.2936 - dense_9_loss: 0.6111 - dense_acc: 0.9777 - dense_1_acc: 0.7377 - dense_2_acc: 0.4800 - dense_3_acc: 0.6531 - dense_4_acc: 1.0000 - dense_5_acc: 0.9853 - dense_6_acc: 0.9345 - dense_7_acc: 0.9999 - dense_8_acc: 0.9046 - dense_9_acc: 0.8060 - val_loss: 3.6382 - val_dense_loss: 0.0606 - val_dense_1_loss: 0.6077 - val_dense_2_loss: 1.0406 - val_dense_3_loss: 0.7803 - val_dense_4_loss: 0.0038 - val_dense_5_loss: 0.0478 - val_dense_6_loss: 0.2528 - val_dense_7_loss: 0.0051 - val_dense_8_loss: 0.2669 - val_dense_9_loss: 0.5726 - val_dense_acc: 0.9818 - val_dense_1_acc: 0.7615 - val_dense_2_acc: 0.4805 - val_dense_3_acc: 0.6951 - val_dense_4_acc: 1.0000 - val_dense_5_acc: 0.9842 - val_dense_6_acc: 0.9350 - val_dense_7_acc: 1.0000 - val_dense_8_acc: 0.9129 - val_dense_9_acc: 0.8070\n",
      "Epoch 6/100\n",
      "400/400 [==============================] - 17s 42ms/step - loss: 3.5490 - dense_loss: 0.0622 - dense_1_loss: 0.5846 - dense_2_loss: 1.0174 - dense_3_loss: 0.7654 - dense_4_loss: 0.0035 - dense_5_loss: 0.0451 - dense_6_loss: 0.2473 - dense_7_loss: 0.0053 - dense_8_loss: 0.2673 - dense_9_loss: 0.5510 - dense_acc: 0.9822 - dense_1_acc: 0.7748 - dense_2_acc: 0.5015 - dense_3_acc: 0.7030 - dense_4_acc: 1.0000 - dense_5_acc: 0.9861 - dense_6_acc: 0.9391 - dense_7_acc: 0.9999 - dense_8_acc: 0.9124 - dense_9_acc: 0.8193 - val_loss: 3.3408 - val_dense_loss: 0.0517 - val_dense_1_loss: 0.5458 - val_dense_2_loss: 0.9857 - val_dense_3_loss: 0.7043 - val_dense_4_loss: 0.0033 - val_dense_5_loss: 0.0425 - val_dense_6_loss: 0.2367 - val_dense_7_loss: 0.0043 - val_dense_8_loss: 0.2466 - val_dense_9_loss: 0.5200 - val_dense_acc: 0.9863 - val_dense_1_acc: 0.7951 - val_dense_2_acc: 0.5119 - val_dense_3_acc: 0.7332 - val_dense_4_acc: 1.0000 - val_dense_5_acc: 0.9848 - val_dense_6_acc: 0.9381 - val_dense_7_acc: 1.0000 - val_dense_8_acc: 0.9213 - val_dense_9_acc: 0.8215\n",
      "Epoch 7/100\n",
      "400/400 [==============================] - 16s 41ms/step - loss: 3.2424 - dense_loss: 0.0549 - dense_1_loss: 0.5244 - dense_2_loss: 0.9569 - dense_3_loss: 0.6854 - dense_4_loss: 0.0031 - dense_5_loss: 0.0430 - dense_6_loss: 0.2302 - dense_7_loss: 0.0046 - dense_8_loss: 0.2435 - dense_9_loss: 0.4964 - dense_acc: 0.9863 - dense_1_acc: 0.8103 - dense_2_acc: 0.5349 - dense_3_acc: 0.7526 - dense_4_acc: 1.0000 - dense_5_acc: 0.9863 - dense_6_acc: 0.9426 - dense_7_acc: 0.9999 - dense_8_acc: 0.9215 - dense_9_acc: 0.8328 - val_loss: 3.0820 - val_dense_loss: 0.0458 - val_dense_1_loss: 0.4906 - val_dense_2_loss: 0.9194 - val_dense_3_loss: 0.6399 - val_dense_4_loss: 0.0024 - val_dense_5_loss: 0.0440 - val_dense_6_loss: 0.2237 - val_dense_7_loss: 0.0035 - val_dense_8_loss: 0.2324 - val_dense_9_loss: 0.4803 - val_dense_acc: 0.9891 - val_dense_1_acc: 0.8252 - val_dense_2_acc: 0.5729 - val_dense_3_acc: 0.7779 - val_dense_4_acc: 1.0000 - val_dense_5_acc: 0.9846 - val_dense_6_acc: 0.9420 - val_dense_7_acc: 1.0000 - val_dense_8_acc: 0.9250 - val_dense_9_acc: 0.8330\n",
      "Epoch 8/100\n",
      "400/400 [==============================] - 17s 41ms/step - loss: 3.0048 - dense_loss: 0.0504 - dense_1_loss: 0.4778 - dense_2_loss: 0.8968 - dense_3_loss: 0.6241 - dense_4_loss: 0.0028 - dense_5_loss: 0.0432 - dense_6_loss: 0.2179 - dense_7_loss: 0.0039 - dense_8_loss: 0.2274 - dense_9_loss: 0.4606 - dense_acc: 0.9871 - dense_1_acc: 0.8299 - dense_2_acc: 0.5785 - dense_3_acc: 0.7888 - dense_4_acc: 1.0000 - dense_5_acc: 0.9859 - dense_6_acc: 0.9441 - dense_7_acc: 1.0000 - dense_8_acc: 0.9252 - dense_9_acc: 0.8430 - val_loss: 2.8390 - val_dense_loss: 0.0405 - val_dense_1_loss: 0.4474 - val_dense_2_loss: 0.8531 - val_dense_3_loss: 0.5782 - val_dense_4_loss: 0.0025 - val_dense_5_loss: 0.0407 - val_dense_6_loss: 0.2112 - val_dense_7_loss: 0.0037 - val_dense_8_loss: 0.2195 - val_dense_9_loss: 0.4423 - val_dense_acc: 0.9914 - val_dense_1_acc: 0.8432 - val_dense_2_acc: 0.6129 - val_dense_3_acc: 0.8105 - val_dense_4_acc: 1.0000 - val_dense_5_acc: 0.9854 - val_dense_6_acc: 0.9439 - val_dense_7_acc: 1.0000 - val_dense_8_acc: 0.9287 - val_dense_9_acc: 0.8445\n"
     ]
    },
    {
     "name": "stdout",
     "output_type": "stream",
     "text": [
      "Epoch 9/100\n",
      "400/400 [==============================] - 16s 41ms/step - loss: 2.7594 - dense_loss: 0.0462 - dense_1_loss: 0.4316 - dense_2_loss: 0.8235 - dense_3_loss: 0.5620 - dense_4_loss: 0.0025 - dense_5_loss: 0.0405 - dense_6_loss: 0.2127 - dense_7_loss: 0.0036 - dense_8_loss: 0.2119 - dense_9_loss: 0.4248 - dense_acc: 0.9888 - dense_1_acc: 0.8524 - dense_2_acc: 0.6304 - dense_3_acc: 0.8187 - dense_4_acc: 1.0000 - dense_5_acc: 0.9863 - dense_6_acc: 0.9436 - dense_7_acc: 0.9999 - dense_8_acc: 0.9300 - dense_9_acc: 0.8544 - val_loss: 2.6358 - val_dense_loss: 0.0382 - val_dense_1_loss: 0.4125 - val_dense_2_loss: 0.7867 - val_dense_3_loss: 0.5302 - val_dense_4_loss: 0.0025 - val_dense_5_loss: 0.0400 - val_dense_6_loss: 0.2035 - val_dense_7_loss: 0.0029 - val_dense_8_loss: 0.2083 - val_dense_9_loss: 0.4110 - val_dense_acc: 0.9920 - val_dense_1_acc: 0.8592 - val_dense_2_acc: 0.6621 - val_dense_3_acc: 0.8285 - val_dense_4_acc: 1.0000 - val_dense_5_acc: 0.9859 - val_dense_6_acc: 0.9447 - val_dense_7_acc: 1.0000 - val_dense_8_acc: 0.9338 - val_dense_9_acc: 0.8537\n",
      "Epoch 10/100\n",
      "400/400 [==============================] - 17s 41ms/step - loss: 2.5436 - dense_loss: 0.0444 - dense_1_loss: 0.3983 - dense_2_loss: 0.7561 - dense_3_loss: 0.5113 - dense_4_loss: 0.0025 - dense_5_loss: 0.0391 - dense_6_loss: 0.1965 - dense_7_loss: 0.0033 - dense_8_loss: 0.1987 - dense_9_loss: 0.3935 - dense_acc: 0.9888 - dense_1_acc: 0.8660 - dense_2_acc: 0.6789 - dense_3_acc: 0.8436 - dense_4_acc: 1.0000 - dense_5_acc: 0.9869 - dense_6_acc: 0.9493 - dense_7_acc: 0.9999 - dense_8_acc: 0.9344 - dense_9_acc: 0.8651 - val_loss: 2.4563 - val_dense_loss: 0.0354 - val_dense_1_loss: 0.3846 - val_dense_2_loss: 0.7251 - val_dense_3_loss: 0.4882 - val_dense_4_loss: 0.0022 - val_dense_5_loss: 0.0390 - val_dense_6_loss: 0.1956 - val_dense_7_loss: 0.0026 - val_dense_8_loss: 0.2000 - val_dense_9_loss: 0.3836 - val_dense_acc: 0.9924 - val_dense_1_acc: 0.8715 - val_dense_2_acc: 0.7016 - val_dense_3_acc: 0.8516 - val_dense_4_acc: 0.9998 - val_dense_5_acc: 0.9857 - val_dense_6_acc: 0.9469 - val_dense_7_acc: 1.0000 - val_dense_8_acc: 0.9350 - val_dense_9_acc: 0.8637\n",
      "Epoch 11/100\n",
      "400/400 [==============================] - 17s 41ms/step - loss: 2.3806 - dense_loss: 0.0402 - dense_1_loss: 0.3722 - dense_2_loss: 0.7005 - dense_3_loss: 0.4746 - dense_4_loss: 0.0021 - dense_5_loss: 0.0383 - dense_6_loss: 0.1932 - dense_7_loss: 0.0029 - dense_8_loss: 0.1914 - dense_9_loss: 0.3651 - dense_acc: 0.9908 - dense_1_acc: 0.8726 - dense_2_acc: 0.7153 - dense_3_acc: 0.8566 - dense_4_acc: 1.0000 - dense_5_acc: 0.9865 - dense_6_acc: 0.9478 - dense_7_acc: 0.9999 - dense_8_acc: 0.9372 - dense_9_acc: 0.8738 - val_loss: 2.2974 - val_dense_loss: 0.0332 - val_dense_1_loss: 0.3633 - val_dense_2_loss: 0.6748 - val_dense_3_loss: 0.4503 - val_dense_4_loss: 0.0019 - val_dense_5_loss: 0.0373 - val_dense_6_loss: 0.1864 - val_dense_7_loss: 0.0024 - val_dense_8_loss: 0.1910 - val_dense_9_loss: 0.3568 - val_dense_acc: 0.9924 - val_dense_1_acc: 0.8814 - val_dense_2_acc: 0.7318 - val_dense_3_acc: 0.8666 - val_dense_4_acc: 1.0000 - val_dense_5_acc: 0.9867 - val_dense_6_acc: 0.9482 - val_dense_7_acc: 1.0000 - val_dense_8_acc: 0.9373 - val_dense_9_acc: 0.8748\n",
      "Epoch 12/100\n",
      "400/400 [==============================] - 17s 41ms/step - loss: 2.2232 - dense_loss: 0.0372 - dense_1_loss: 0.3515 - dense_2_loss: 0.6431 - dense_3_loss: 0.4387 - dense_4_loss: 0.0020 - dense_5_loss: 0.0374 - dense_6_loss: 0.1824 - dense_7_loss: 0.0027 - dense_8_loss: 0.1832 - dense_9_loss: 0.3451 - dense_acc: 0.9910 - dense_1_acc: 0.8841 - dense_2_acc: 0.7477 - dense_3_acc: 0.8720 - dense_4_acc: 1.0000 - dense_5_acc: 0.9867 - dense_6_acc: 0.9513 - dense_7_acc: 0.9999 - dense_8_acc: 0.9393 - dense_9_acc: 0.8803 - val_loss: 2.1734 - val_dense_loss: 0.0312 - val_dense_1_loss: 0.3473 - val_dense_2_loss: 0.6348 - val_dense_3_loss: 0.4274 - val_dense_4_loss: 0.0021 - val_dense_5_loss: 0.0367 - val_dense_6_loss: 0.1810 - val_dense_7_loss: 0.0023 - val_dense_8_loss: 0.1798 - val_dense_9_loss: 0.3308 - val_dense_acc: 0.9936 - val_dense_1_acc: 0.8867 - val_dense_2_acc: 0.7557 - val_dense_3_acc: 0.8684 - val_dense_4_acc: 1.0000 - val_dense_5_acc: 0.9859 - val_dense_6_acc: 0.9479 - val_dense_7_acc: 1.0000 - val_dense_8_acc: 0.9422 - val_dense_9_acc: 0.8826\n",
      "Epoch 13/100\n",
      "400/400 [==============================] - 16s 41ms/step - loss: 2.0778 - dense_loss: 0.0351 - dense_1_loss: 0.3302 - dense_2_loss: 0.5965 - dense_3_loss: 0.4102 - dense_4_loss: 0.0019 - dense_5_loss: 0.0374 - dense_6_loss: 0.1730 - dense_7_loss: 0.0024 - dense_8_loss: 0.1740 - dense_9_loss: 0.3169 - dense_acc: 0.9919 - dense_1_acc: 0.8917 - dense_2_acc: 0.7773 - dense_3_acc: 0.8801 - dense_4_acc: 1.0000 - dense_5_acc: 0.9872 - dense_6_acc: 0.9536 - dense_7_acc: 1.0000 - dense_8_acc: 0.9447 - dense_9_acc: 0.8945 - val_loss: 2.0393 - val_dense_loss: 0.0294 - val_dense_1_loss: 0.3279 - val_dense_2_loss: 0.5865 - val_dense_3_loss: 0.3983 - val_dense_4_loss: 0.0016 - val_dense_5_loss: 0.0353 - val_dense_6_loss: 0.1772 - val_dense_7_loss: 0.0018 - val_dense_8_loss: 0.1719 - val_dense_9_loss: 0.3095 - val_dense_acc: 0.9937 - val_dense_1_acc: 0.8943 - val_dense_2_acc: 0.7795 - val_dense_3_acc: 0.8775 - val_dense_4_acc: 1.0000 - val_dense_5_acc: 0.9887 - val_dense_6_acc: 0.9484 - val_dense_7_acc: 1.0000 - val_dense_8_acc: 0.9453 - val_dense_9_acc: 0.8945\n",
      "Epoch 14/100\n",
      "400/400 [==============================] - 16s 41ms/step - loss: 1.9759 - dense_loss: 0.0327 - dense_1_loss: 0.3146 - dense_2_loss: 0.5618 - dense_3_loss: 0.3906 - dense_4_loss: 0.0018 - dense_5_loss: 0.0352 - dense_6_loss: 0.1712 - dense_7_loss: 0.0022 - dense_8_loss: 0.1663 - dense_9_loss: 0.2995 - dense_acc: 0.9926 - dense_1_acc: 0.8963 - dense_2_acc: 0.7950 - dense_3_acc: 0.8858 - dense_4_acc: 1.0000 - dense_5_acc: 0.9882 - dense_6_acc: 0.9523 - dense_7_acc: 1.0000 - dense_8_acc: 0.9472 - dense_9_acc: 0.8997 - val_loss: 1.9393 - val_dense_loss: 0.0278 - val_dense_1_loss: 0.3122 - val_dense_2_loss: 0.5523 - val_dense_3_loss: 0.3796 - val_dense_4_loss: 0.0013 - val_dense_5_loss: 0.0353 - val_dense_6_loss: 0.1718 - val_dense_7_loss: 0.0016 - val_dense_8_loss: 0.1672 - val_dense_9_loss: 0.2902 - val_dense_acc: 0.9941 - val_dense_1_acc: 0.8996 - val_dense_2_acc: 0.7988 - val_dense_3_acc: 0.8857 - val_dense_4_acc: 1.0000 - val_dense_5_acc: 0.9887 - val_dense_6_acc: 0.9504 - val_dense_7_acc: 1.0000 - val_dense_8_acc: 0.9449 - val_dense_9_acc: 0.9023\n",
      "Epoch 15/100\n",
      "400/400 [==============================] - 16s 40ms/step - loss: 1.8629 - dense_loss: 0.0314 - dense_1_loss: 0.3031 - dense_2_loss: 0.5242 - dense_3_loss: 0.3692 - dense_4_loss: 0.0016 - dense_5_loss: 0.0341 - dense_6_loss: 0.1645 - dense_7_loss: 0.0019 - dense_8_loss: 0.1569 - dense_9_loss: 0.2761 - dense_acc: 0.9929 - dense_1_acc: 0.9027 - dense_2_acc: 0.8150 - dense_3_acc: 0.8926 - dense_4_acc: 1.0000 - dense_5_acc: 0.9878 - dense_6_acc: 0.9548 - dense_7_acc: 1.0000 - dense_8_acc: 0.9501 - dense_9_acc: 0.9100 - val_loss: 1.8470 - val_dense_loss: 0.0267 - val_dense_1_loss: 0.2993 - val_dense_2_loss: 0.5188 - val_dense_3_loss: 0.3644 - val_dense_4_loss: 0.0016 - val_dense_5_loss: 0.0345 - val_dense_6_loss: 0.1661 - val_dense_7_loss: 0.0016 - val_dense_8_loss: 0.1583 - val_dense_9_loss: 0.2758 - val_dense_acc: 0.9943 - val_dense_1_acc: 0.9064 - val_dense_2_acc: 0.8125 - val_dense_3_acc: 0.8875 - val_dense_4_acc: 1.0000 - val_dense_5_acc: 0.9877 - val_dense_6_acc: 0.9498 - val_dense_7_acc: 1.0000 - val_dense_8_acc: 0.9484 - val_dense_9_acc: 0.9053\n",
      "Epoch 16/100\n",
      "400/400 [==============================] - 16s 39ms/step - loss: 1.7931 - dense_loss: 0.0323 - dense_1_loss: 0.2907 - dense_2_loss: 0.4956 - dense_3_loss: 0.3564 - dense_4_loss: 0.0015 - dense_5_loss: 0.0347 - dense_6_loss: 0.1630 - dense_7_loss: 0.0019 - dense_8_loss: 0.1515 - dense_9_loss: 0.2655 - dense_acc: 0.9927 - dense_1_acc: 0.9074 - dense_2_acc: 0.8321 - dense_3_acc: 0.8933 - dense_4_acc: 1.0000 - dense_5_acc: 0.9882 - dense_6_acc: 0.9552 - dense_7_acc: 0.9999 - dense_8_acc: 0.9515 - dense_9_acc: 0.9141 - val_loss: 1.7687 - val_dense_loss: 0.0256 - val_dense_1_loss: 0.2878 - val_dense_2_loss: 0.4969 - val_dense_3_loss: 0.3485 - val_dense_4_loss: 0.0013 - val_dense_5_loss: 0.0331 - val_dense_6_loss: 0.1626 - val_dense_7_loss: 0.0015 - val_dense_8_loss: 0.1519 - val_dense_9_loss: 0.2594 - val_dense_acc: 0.9945 - val_dense_1_acc: 0.9121 - val_dense_2_acc: 0.8250 - val_dense_3_acc: 0.8908 - val_dense_4_acc: 1.0000 - val_dense_5_acc: 0.9891 - val_dense_6_acc: 0.9498 - val_dense_7_acc: 1.0000 - val_dense_8_acc: 0.9516 - val_dense_9_acc: 0.9119\n"
     ]
    },
    {
     "name": "stdout",
     "output_type": "stream",
     "text": [
      "Epoch 17/100\n",
      "400/400 [==============================] - 16s 40ms/step - loss: 1.6993 - dense_loss: 0.0292 - dense_1_loss: 0.2774 - dense_2_loss: 0.4724 - dense_3_loss: 0.3403 - dense_4_loss: 0.0014 - dense_5_loss: 0.0326 - dense_6_loss: 0.1536 - dense_7_loss: 0.0016 - dense_8_loss: 0.1413 - dense_9_loss: 0.2495 - dense_acc: 0.9935 - dense_1_acc: 0.9127 - dense_2_acc: 0.8399 - dense_3_acc: 0.8996 - dense_4_acc: 1.0000 - dense_5_acc: 0.9882 - dense_6_acc: 0.9580 - dense_7_acc: 0.9999 - dense_8_acc: 0.9553 - dense_9_acc: 0.9199 - val_loss: 1.6919 - val_dense_loss: 0.0247 - val_dense_1_loss: 0.2779 - val_dense_2_loss: 0.4703 - val_dense_3_loss: 0.3358 - val_dense_4_loss: 0.0012 - val_dense_5_loss: 0.0322 - val_dense_6_loss: 0.1586 - val_dense_7_loss: 0.0014 - val_dense_8_loss: 0.1421 - val_dense_9_loss: 0.2478 - val_dense_acc: 0.9947 - val_dense_1_acc: 0.9143 - val_dense_2_acc: 0.8365 - val_dense_3_acc: 0.8945 - val_dense_4_acc: 1.0000 - val_dense_5_acc: 0.9887 - val_dense_6_acc: 0.9529 - val_dense_7_acc: 1.0000 - val_dense_8_acc: 0.9563 - val_dense_9_acc: 0.9164\n",
      "Epoch 18/100\n",
      "400/400 [==============================] - 16s 41ms/step - loss: 1.6307 - dense_loss: 0.0288 - dense_1_loss: 0.2675 - dense_2_loss: 0.4510 - dense_3_loss: 0.3230 - dense_4_loss: 0.0013 - dense_5_loss: 0.0334 - dense_6_loss: 0.1508 - dense_7_loss: 0.0015 - dense_8_loss: 0.1380 - dense_9_loss: 0.2352 - dense_acc: 0.9934 - dense_1_acc: 0.9164 - dense_2_acc: 0.8495 - dense_3_acc: 0.9054 - dense_4_acc: 1.0000 - dense_5_acc: 0.9880 - dense_6_acc: 0.9572 - dense_7_acc: 0.9999 - dense_8_acc: 0.9567 - dense_9_acc: 0.9253 - val_loss: 1.6300 - val_dense_loss: 0.0238 - val_dense_1_loss: 0.2660 - val_dense_2_loss: 0.4513 - val_dense_3_loss: 0.3281 - val_dense_4_loss: 0.0011 - val_dense_5_loss: 0.0324 - val_dense_6_loss: 0.1530 - val_dense_7_loss: 0.0012 - val_dense_8_loss: 0.1361 - val_dense_9_loss: 0.2369 - val_dense_acc: 0.9949 - val_dense_1_acc: 0.9209 - val_dense_2_acc: 0.8504 - val_dense_3_acc: 0.8973 - val_dense_4_acc: 1.0000 - val_dense_5_acc: 0.9893 - val_dense_6_acc: 0.9551 - val_dense_7_acc: 1.0000 - val_dense_8_acc: 0.9582 - val_dense_9_acc: 0.9211\n",
      "Epoch 19/100\n",
      "400/400 [==============================] - 16s 40ms/step - loss: 1.5629 - dense_loss: 0.0281 - dense_1_loss: 0.2630 - dense_2_loss: 0.4289 - dense_3_loss: 0.3099 - dense_4_loss: 0.0012 - dense_5_loss: 0.0320 - dense_6_loss: 0.1446 - dense_7_loss: 0.0014 - dense_8_loss: 0.1296 - dense_9_loss: 0.2244 - dense_acc: 0.9932 - dense_1_acc: 0.9199 - dense_2_acc: 0.8614 - dense_3_acc: 0.9092 - dense_4_acc: 1.0000 - dense_5_acc: 0.9882 - dense_6_acc: 0.9603 - dense_7_acc: 1.0000 - dense_8_acc: 0.9597 - dense_9_acc: 0.9306 - val_loss: 1.5716 - val_dense_loss: 0.0234 - val_dense_1_loss: 0.2582 - val_dense_2_loss: 0.4336 - val_dense_3_loss: 0.3124 - val_dense_4_loss: 9.3056e-04 - val_dense_5_loss: 0.0315 - val_dense_6_loss: 0.1526 - val_dense_7_loss: 0.0010 - val_dense_8_loss: 0.1325 - val_dense_9_loss: 0.2254 - val_dense_acc: 0.9945 - val_dense_1_acc: 0.9225 - val_dense_2_acc: 0.8553 - val_dense_3_acc: 0.9041 - val_dense_4_acc: 1.0000 - val_dense_5_acc: 0.9893 - val_dense_6_acc: 0.9521 - val_dense_7_acc: 1.0000 - val_dense_8_acc: 0.9602 - val_dense_9_acc: 0.9273\n",
      "Epoch 20/100\n",
      "400/400 [==============================] - 16s 39ms/step - loss: 1.5184 - dense_loss: 0.0279 - dense_1_loss: 0.2527 - dense_2_loss: 0.4136 - dense_3_loss: 0.3055 - dense_4_loss: 0.0011 - dense_5_loss: 0.0319 - dense_6_loss: 0.1440 - dense_7_loss: 0.0012 - dense_8_loss: 0.1238 - dense_9_loss: 0.2167 - dense_acc: 0.9931 - dense_1_acc: 0.9228 - dense_2_acc: 0.8666 - dense_3_acc: 0.9076 - dense_4_acc: 1.0000 - dense_5_acc: 0.9888 - dense_6_acc: 0.9597 - dense_7_acc: 1.0000 - dense_8_acc: 0.9621 - dense_9_acc: 0.9328 - val_loss: 1.5196 - val_dense_loss: 0.0226 - val_dense_1_loss: 0.2485 - val_dense_2_loss: 0.4163 - val_dense_3_loss: 0.3039 - val_dense_4_loss: 9.6698e-04 - val_dense_5_loss: 0.0322 - val_dense_6_loss: 0.1490 - val_dense_7_loss: 0.0010 - val_dense_8_loss: 0.1282 - val_dense_9_loss: 0.2170 - val_dense_acc: 0.9947 - val_dense_1_acc: 0.9262 - val_dense_2_acc: 0.8641 - val_dense_3_acc: 0.9059 - val_dense_4_acc: 1.0000 - val_dense_5_acc: 0.9885 - val_dense_6_acc: 0.9541 - val_dense_7_acc: 1.0000 - val_dense_8_acc: 0.9602 - val_dense_9_acc: 0.9299\n",
      "Epoch 21/100\n",
      "400/400 [==============================] - 16s 40ms/step - loss: 1.4737 - dense_loss: 0.0285 - dense_1_loss: 0.2486 - dense_2_loss: 0.3946 - dense_3_loss: 0.2923 - dense_4_loss: 0.0010 - dense_5_loss: 0.0304 - dense_6_loss: 0.1444 - dense_7_loss: 0.0012 - dense_8_loss: 0.1222 - dense_9_loss: 0.2104 - dense_acc: 0.9933 - dense_1_acc: 0.9241 - dense_2_acc: 0.8753 - dense_3_acc: 0.9128 - dense_4_acc: 1.0000 - dense_5_acc: 0.9894 - dense_6_acc: 0.9586 - dense_7_acc: 1.0000 - dense_8_acc: 0.9619 - dense_9_acc: 0.9347 - val_loss: 1.4681 - val_dense_loss: 0.0222 - val_dense_1_loss: 0.2409 - val_dense_2_loss: 0.4000 - val_dense_3_loss: 0.2950 - val_dense_4_loss: 9.3013e-04 - val_dense_5_loss: 0.0310 - val_dense_6_loss: 0.1472 - val_dense_7_loss: 9.2351e-04 - val_dense_8_loss: 0.1201 - val_dense_9_loss: 0.2100 - val_dense_acc: 0.9949 - val_dense_1_acc: 0.9281 - val_dense_2_acc: 0.8689 - val_dense_3_acc: 0.9086 - val_dense_4_acc: 1.0000 - val_dense_5_acc: 0.9900 - val_dense_6_acc: 0.9551 - val_dense_7_acc: 1.0000 - val_dense_8_acc: 0.9654 - val_dense_9_acc: 0.9312\n",
      "Epoch 22/100\n",
      "400/400 [==============================] - 16s 39ms/step - loss: 1.4191 - dense_loss: 0.0263 - dense_1_loss: 0.2327 - dense_2_loss: 0.3849 - dense_3_loss: 0.2815 - dense_4_loss: 9.4582e-04 - dense_5_loss: 0.0308 - dense_6_loss: 0.1407 - dense_7_loss: 0.0011 - dense_8_loss: 0.1195 - dense_9_loss: 0.2006 - dense_acc: 0.9937 - dense_1_acc: 0.9326 - dense_2_acc: 0.8769 - dense_3_acc: 0.9154 - dense_4_acc: 1.0000 - dense_5_acc: 0.9886 - dense_6_acc: 0.9595 - dense_7_acc: 1.0000 - dense_8_acc: 0.9639 - dense_9_acc: 0.9386 - val_loss: 1.4250 - val_dense_loss: 0.0215 - val_dense_1_loss: 0.2340 - val_dense_2_loss: 0.3867 - val_dense_3_loss: 0.2876 - val_dense_4_loss: 7.7959e-04 - val_dense_5_loss: 0.0302 - val_dense_6_loss: 0.1443 - val_dense_7_loss: 8.8137e-04 - val_dense_8_loss: 0.1180 - val_dense_9_loss: 0.2011 - val_dense_acc: 0.9951 - val_dense_1_acc: 0.9295 - val_dense_2_acc: 0.8754 - val_dense_3_acc: 0.9113 - val_dense_4_acc: 1.0000 - val_dense_5_acc: 0.9900 - val_dense_6_acc: 0.9547 - val_dense_7_acc: 1.0000 - val_dense_8_acc: 0.9639 - val_dense_9_acc: 0.9342\n",
      "Epoch 23/100\n",
      "400/400 [==============================] - 16s 40ms/step - loss: 1.3691 - dense_loss: 0.0266 - dense_1_loss: 0.2308 - dense_2_loss: 0.3698 - dense_3_loss: 0.2732 - dense_4_loss: 8.9424e-04 - dense_5_loss: 0.0293 - dense_6_loss: 0.1390 - dense_7_loss: 0.0011 - dense_8_loss: 0.1086 - dense_9_loss: 0.1898 - dense_acc: 0.9937 - dense_1_acc: 0.9319 - dense_2_acc: 0.8820 - dense_3_acc: 0.9181 - dense_4_acc: 1.0000 - dense_5_acc: 0.9894 - dense_6_acc: 0.9598 - dense_7_acc: 0.9999 - dense_8_acc: 0.9678 - dense_9_acc: 0.9430 - val_loss: 1.3848 - val_dense_loss: 0.0213 - val_dense_1_loss: 0.2282 - val_dense_2_loss: 0.3746 - val_dense_3_loss: 0.2789 - val_dense_4_loss: 7.7106e-04 - val_dense_5_loss: 0.0304 - val_dense_6_loss: 0.1412 - val_dense_7_loss: 9.3804e-04 - val_dense_8_loss: 0.1131 - val_dense_9_loss: 0.1955 - val_dense_acc: 0.9953 - val_dense_1_acc: 0.9328 - val_dense_2_acc: 0.8797 - val_dense_3_acc: 0.9127 - val_dense_4_acc: 1.0000 - val_dense_5_acc: 0.9895 - val_dense_6_acc: 0.9561 - val_dense_7_acc: 1.0000 - val_dense_8_acc: 0.9676 - val_dense_9_acc: 0.9361\n",
      "Epoch 24/100\n",
      "400/400 [==============================] - 16s 39ms/step - loss: 1.3237 - dense_loss: 0.0251 - dense_1_loss: 0.2219 - dense_2_loss: 0.3556 - dense_3_loss: 0.2682 - dense_4_loss: 9.0236e-04 - dense_5_loss: 0.0284 - dense_6_loss: 0.1348 - dense_7_loss: 0.0010 - dense_8_loss: 0.1049 - dense_9_loss: 0.1828 - dense_acc: 0.9937 - dense_1_acc: 0.9362 - dense_2_acc: 0.8882 - dense_3_acc: 0.9213 - dense_4_acc: 1.0000 - dense_5_acc: 0.9899 - dense_6_acc: 0.9611 - dense_7_acc: 1.0000 - dense_8_acc: 0.9687 - dense_9_acc: 0.9446 - val_loss: 1.3495 - val_dense_loss: 0.0206 - val_dense_1_loss: 0.2220 - val_dense_2_loss: 0.3631 - val_dense_3_loss: 0.2711 - val_dense_4_loss: 7.3496e-04 - val_dense_5_loss: 0.0304 - val_dense_6_loss: 0.1389 - val_dense_7_loss: 9.2552e-04 - val_dense_8_loss: 0.1118 - val_dense_9_loss: 0.1897 - val_dense_acc: 0.9955 - val_dense_1_acc: 0.9363 - val_dense_2_acc: 0.8854 - val_dense_3_acc: 0.9154 - val_dense_4_acc: 1.0000 - val_dense_5_acc: 0.9900 - val_dense_6_acc: 0.9572 - val_dense_7_acc: 1.0000 - val_dense_8_acc: 0.9676 - val_dense_9_acc: 0.9396\n"
     ]
    },
    {
     "name": "stdout",
     "output_type": "stream",
     "text": [
      "Epoch 25/100\n",
      "400/400 [==============================] - 16s 40ms/step - loss: 1.2954 - dense_loss: 0.0249 - dense_1_loss: 0.2196 - dense_2_loss: 0.3453 - dense_3_loss: 0.2619 - dense_4_loss: 7.7910e-04 - dense_5_loss: 0.0292 - dense_6_loss: 0.1314 - dense_7_loss: 9.3120e-04 - dense_8_loss: 0.1037 - dense_9_loss: 0.1777 - dense_acc: 0.9941 - dense_1_acc: 0.9371 - dense_2_acc: 0.8916 - dense_3_acc: 0.9216 - dense_4_acc: 1.0000 - dense_5_acc: 0.9895 - dense_6_acc: 0.9620 - dense_7_acc: 1.0000 - dense_8_acc: 0.9681 - dense_9_acc: 0.9464 - val_loss: 1.3143 - val_dense_loss: 0.0199 - val_dense_1_loss: 0.2160 - val_dense_2_loss: 0.3531 - val_dense_3_loss: 0.2671 - val_dense_4_loss: 6.0930e-04 - val_dense_5_loss: 0.0296 - val_dense_6_loss: 0.1380 - val_dense_7_loss: 7.4367e-04 - val_dense_8_loss: 0.1054 - val_dense_9_loss: 0.1840 - val_dense_acc: 0.9957 - val_dense_1_acc: 0.9377 - val_dense_2_acc: 0.8904 - val_dense_3_acc: 0.9162 - val_dense_4_acc: 1.0000 - val_dense_5_acc: 0.9902 - val_dense_6_acc: 0.9563 - val_dense_7_acc: 1.0000 - val_dense_8_acc: 0.9697 - val_dense_9_acc: 0.9404\n",
      "Epoch 26/100\n",
      "400/400 [==============================] - 16s 40ms/step - loss: 1.2659 - dense_loss: 0.0237 - dense_1_loss: 0.2116 - dense_2_loss: 0.3322 - dense_3_loss: 0.2575 - dense_4_loss: 7.5929e-04 - dense_5_loss: 0.0286 - dense_6_loss: 0.1314 - dense_7_loss: 9.2875e-04 - dense_8_loss: 0.1021 - dense_9_loss: 0.1772 - dense_acc: 0.9944 - dense_1_acc: 0.9398 - dense_2_acc: 0.8960 - dense_3_acc: 0.9228 - dense_4_acc: 1.0000 - dense_5_acc: 0.9901 - dense_6_acc: 0.9618 - dense_7_acc: 1.0000 - dense_8_acc: 0.9699 - dense_9_acc: 0.9468 - val_loss: 1.2833 - val_dense_loss: 0.0199 - val_dense_1_loss: 0.2110 - val_dense_2_loss: 0.3425 - val_dense_3_loss: 0.2602 - val_dense_4_loss: 6.4460e-04 - val_dense_5_loss: 0.0300 - val_dense_6_loss: 0.1372 - val_dense_7_loss: 6.9116e-04 - val_dense_8_loss: 0.1024 - val_dense_9_loss: 0.1788 - val_dense_acc: 0.9957 - val_dense_1_acc: 0.9414 - val_dense_2_acc: 0.8893 - val_dense_3_acc: 0.9201 - val_dense_4_acc: 1.0000 - val_dense_5_acc: 0.9893 - val_dense_6_acc: 0.9568 - val_dense_7_acc: 1.0000 - val_dense_8_acc: 0.9697 - val_dense_9_acc: 0.9430\n",
      "Epoch 27/100\n",
      "400/400 [==============================] - 16s 40ms/step - loss: 1.2363 - dense_loss: 0.0242 - dense_1_loss: 0.2081 - dense_2_loss: 0.3249 - dense_3_loss: 0.2488 - dense_4_loss: 7.0975e-04 - dense_5_loss: 0.0287 - dense_6_loss: 0.1299 - dense_7_loss: 8.8585e-04 - dense_8_loss: 0.0986 - dense_9_loss: 0.1715 - dense_acc: 0.9939 - dense_1_acc: 0.9406 - dense_2_acc: 0.8991 - dense_3_acc: 0.9233 - dense_4_acc: 1.0000 - dense_5_acc: 0.9895 - dense_6_acc: 0.9626 - dense_7_acc: 0.9999 - dense_8_acc: 0.9704 - dense_9_acc: 0.9505 - val_loss: 1.2498 - val_dense_loss: 0.0193 - val_dense_1_loss: 0.2043 - val_dense_2_loss: 0.3308 - val_dense_3_loss: 0.2553 - val_dense_4_loss: 6.0156e-04 - val_dense_5_loss: 0.0293 - val_dense_6_loss: 0.1351 - val_dense_7_loss: 7.0192e-04 - val_dense_8_loss: 0.0999 - val_dense_9_loss: 0.1744 - val_dense_acc: 0.9959 - val_dense_1_acc: 0.9412 - val_dense_2_acc: 0.8951 - val_dense_3_acc: 0.9199 - val_dense_4_acc: 1.0000 - val_dense_5_acc: 0.9898 - val_dense_6_acc: 0.9582 - val_dense_7_acc: 1.0000 - val_dense_8_acc: 0.9717 - val_dense_9_acc: 0.9447\n",
      "Epoch 28/100\n",
      "400/400 [==============================] - 16s 39ms/step - loss: 1.1900 - dense_loss: 0.0233 - dense_1_loss: 0.1977 - dense_2_loss: 0.3117 - dense_3_loss: 0.2412 - dense_4_loss: 6.8906e-04 - dense_5_loss: 0.0269 - dense_6_loss: 0.1276 - dense_7_loss: 8.3960e-04 - dense_8_loss: 0.0979 - dense_9_loss: 0.1621 - dense_acc: 0.9941 - dense_1_acc: 0.9441 - dense_2_acc: 0.9056 - dense_3_acc: 0.9270 - dense_4_acc: 1.0000 - dense_5_acc: 0.9903 - dense_6_acc: 0.9630 - dense_7_acc: 0.9999 - dense_8_acc: 0.9701 - dense_9_acc: 0.9521 - val_loss: 1.2174 - val_dense_loss: 0.0190 - val_dense_1_loss: 0.2007 - val_dense_2_loss: 0.3217 - val_dense_3_loss: 0.2469 - val_dense_4_loss: 5.8031e-04 - val_dense_5_loss: 0.0290 - val_dense_6_loss: 0.1319 - val_dense_7_loss: 6.9391e-04 - val_dense_8_loss: 0.0978 - val_dense_9_loss: 0.1691 - val_dense_acc: 0.9959 - val_dense_1_acc: 0.9438 - val_dense_2_acc: 0.8994 - val_dense_3_acc: 0.9242 - val_dense_4_acc: 1.0000 - val_dense_5_acc: 0.9896 - val_dense_6_acc: 0.9586 - val_dense_7_acc: 1.0000 - val_dense_8_acc: 0.9721 - val_dense_9_acc: 0.9445\n",
      "Epoch 29/100\n",
      "400/400 [==============================] - 16s 39ms/step - loss: 1.1824 - dense_loss: 0.0248 - dense_1_loss: 0.2011 - dense_2_loss: 0.3041 - dense_3_loss: 0.2417 - dense_4_loss: 6.6838e-04 - dense_5_loss: 0.0268 - dense_6_loss: 0.1263 - dense_7_loss: 7.8416e-04 - dense_8_loss: 0.0949 - dense_9_loss: 0.1612 - dense_acc: 0.9934 - dense_1_acc: 0.9427 - dense_2_acc: 0.9067 - dense_3_acc: 0.9269 - dense_4_acc: 1.0000 - dense_5_acc: 0.9902 - dense_6_acc: 0.9627 - dense_7_acc: 1.0000 - dense_8_acc: 0.9712 - dense_9_acc: 0.9515 - val_loss: 1.1889 - val_dense_loss: 0.0186 - val_dense_1_loss: 0.1952 - val_dense_2_loss: 0.3129 - val_dense_3_loss: 0.2420 - val_dense_4_loss: 5.2024e-04 - val_dense_5_loss: 0.0293 - val_dense_6_loss: 0.1306 - val_dense_7_loss: 6.0927e-04 - val_dense_8_loss: 0.0940 - val_dense_9_loss: 0.1653 - val_dense_acc: 0.9959 - val_dense_1_acc: 0.9457 - val_dense_2_acc: 0.9025 - val_dense_3_acc: 0.9250 - val_dense_4_acc: 1.0000 - val_dense_5_acc: 0.9900 - val_dense_6_acc: 0.9594 - val_dense_7_acc: 1.0000 - val_dense_8_acc: 0.9742 - val_dense_9_acc: 0.9488\n",
      "Epoch 30/100\n",
      "400/400 [==============================] - 16s 40ms/step - loss: 1.1511 - dense_loss: 0.0232 - dense_1_loss: 0.1961 - dense_2_loss: 0.2979 - dense_3_loss: 0.2324 - dense_4_loss: 6.0655e-04 - dense_5_loss: 0.0278 - dense_6_loss: 0.1246 - dense_7_loss: 7.0440e-04 - dense_8_loss: 0.0909 - dense_9_loss: 0.1568 - dense_acc: 0.9943 - dense_1_acc: 0.9445 - dense_2_acc: 0.9098 - dense_3_acc: 0.9284 - dense_4_acc: 1.0000 - dense_5_acc: 0.9899 - dense_6_acc: 0.9627 - dense_7_acc: 1.0000 - dense_8_acc: 0.9740 - dense_9_acc: 0.9525 - val_loss: 1.1646 - val_dense_loss: 0.0184 - val_dense_1_loss: 0.1916 - val_dense_2_loss: 0.3046 - val_dense_3_loss: 0.2375 - val_dense_4_loss: 5.2407e-04 - val_dense_5_loss: 0.0290 - val_dense_6_loss: 0.1297 - val_dense_7_loss: 6.0712e-04 - val_dense_8_loss: 0.0916 - val_dense_9_loss: 0.1610 - val_dense_acc: 0.9959 - val_dense_1_acc: 0.9461 - val_dense_2_acc: 0.9076 - val_dense_3_acc: 0.9275 - val_dense_4_acc: 1.0000 - val_dense_5_acc: 0.9895 - val_dense_6_acc: 0.9586 - val_dense_7_acc: 1.0000 - val_dense_8_acc: 0.9750 - val_dense_9_acc: 0.9512\n",
      "Epoch 31/100\n",
      "400/400 [==============================] - 16s 40ms/step - loss: 1.1220 - dense_loss: 0.0216 - dense_1_loss: 0.1882 - dense_2_loss: 0.2900 - dense_3_loss: 0.2271 - dense_4_loss: 5.8868e-04 - dense_5_loss: 0.0277 - dense_6_loss: 0.1246 - dense_7_loss: 7.1504e-04 - dense_8_loss: 0.0884 - dense_9_loss: 0.1531 - dense_acc: 0.9945 - dense_1_acc: 0.9467 - dense_2_acc: 0.9126 - dense_3_acc: 0.9313 - dense_4_acc: 1.0000 - dense_5_acc: 0.9898 - dense_6_acc: 0.9621 - dense_7_acc: 1.0000 - dense_8_acc: 0.9725 - dense_9_acc: 0.9547 - val_loss: 1.1437 - val_dense_loss: 0.0181 - val_dense_1_loss: 0.1880 - val_dense_2_loss: 0.2987 - val_dense_3_loss: 0.2339 - val_dense_4_loss: 4.9090e-04 - val_dense_5_loss: 0.0286 - val_dense_6_loss: 0.1289 - val_dense_7_loss: 5.9538e-04 - val_dense_8_loss: 0.0898 - val_dense_9_loss: 0.1567 - val_dense_acc: 0.9961 - val_dense_1_acc: 0.9480 - val_dense_2_acc: 0.9076 - val_dense_3_acc: 0.9285 - val_dense_4_acc: 1.0000 - val_dense_5_acc: 0.9893 - val_dense_6_acc: 0.9598 - val_dense_7_acc: 1.0000 - val_dense_8_acc: 0.9754 - val_dense_9_acc: 0.9508\n",
      "Epoch 32/100\n",
      "400/400 [==============================] - 16s 40ms/step - loss: 1.0978 - dense_loss: 0.0217 - dense_1_loss: 0.1831 - dense_2_loss: 0.2832 - dense_3_loss: 0.2226 - dense_4_loss: 5.8948e-04 - dense_5_loss: 0.0266 - dense_6_loss: 0.1214 - dense_7_loss: 7.3735e-04 - dense_8_loss: 0.0865 - dense_9_loss: 0.1514 - dense_acc: 0.9944 - dense_1_acc: 0.9489 - dense_2_acc: 0.9144 - dense_3_acc: 0.9323 - dense_4_acc: 1.0000 - dense_5_acc: 0.9902 - dense_6_acc: 0.9648 - dense_7_acc: 1.0000 - dense_8_acc: 0.9743 - dense_9_acc: 0.9539 - val_loss: 1.1184 - val_dense_loss: 0.0180 - val_dense_1_loss: 0.1831 - val_dense_2_loss: 0.2899 - val_dense_3_loss: 0.2282 - val_dense_4_loss: 4.8670e-04 - val_dense_5_loss: 0.0289 - val_dense_6_loss: 0.1268 - val_dense_7_loss: 5.4552e-04 - val_dense_8_loss: 0.0877 - val_dense_9_loss: 0.1547 - val_dense_acc: 0.9961 - val_dense_1_acc: 0.9490 - val_dense_2_acc: 0.9086 - val_dense_3_acc: 0.9283 - val_dense_4_acc: 1.0000 - val_dense_5_acc: 0.9896 - val_dense_6_acc: 0.9604 - val_dense_7_acc: 1.0000 - val_dense_8_acc: 0.9756 - val_dense_9_acc: 0.9514\n"
     ]
    },
    {
     "name": "stdout",
     "output_type": "stream",
     "text": [
      "Epoch 33/100\n",
      "400/400 [==============================] - 17s 41ms/step - loss: 1.0601 - dense_loss: 0.0206 - dense_1_loss: 0.1791 - dense_2_loss: 0.2731 - dense_3_loss: 0.2116 - dense_4_loss: 5.7392e-04 - dense_5_loss: 0.0264 - dense_6_loss: 0.1208 - dense_7_loss: 7.0626e-04 - dense_8_loss: 0.0840 - dense_9_loss: 0.1432 - dense_acc: 0.9948 - dense_1_acc: 0.9497 - dense_2_acc: 0.9205 - dense_3_acc: 0.9360 - dense_4_acc: 1.0000 - dense_5_acc: 0.9902 - dense_6_acc: 0.9633 - dense_7_acc: 1.0000 - dense_8_acc: 0.9751 - dense_9_acc: 0.9577 - val_loss: 1.0988 - val_dense_loss: 0.0177 - val_dense_1_loss: 0.1799 - val_dense_2_loss: 0.2836 - val_dense_3_loss: 0.2245 - val_dense_4_loss: 4.2878e-04 - val_dense_5_loss: 0.0288 - val_dense_6_loss: 0.1252 - val_dense_7_loss: 5.5997e-04 - val_dense_8_loss: 0.0869 - val_dense_9_loss: 0.1511 - val_dense_acc: 0.9961 - val_dense_1_acc: 0.9498 - val_dense_2_acc: 0.9141 - val_dense_3_acc: 0.9324 - val_dense_4_acc: 1.0000 - val_dense_5_acc: 0.9893 - val_dense_6_acc: 0.9605 - val_dense_7_acc: 1.0000 - val_dense_8_acc: 0.9762 - val_dense_9_acc: 0.9527\n",
      "Epoch 34/100\n",
      "400/400 [==============================] - 16s 41ms/step - loss: 1.0542 - dense_loss: 0.0218 - dense_1_loss: 0.1774 - dense_2_loss: 0.2694 - dense_3_loss: 0.2106 - dense_4_loss: 5.2782e-04 - dense_5_loss: 0.0271 - dense_6_loss: 0.1177 - dense_7_loss: 6.9616e-04 - dense_8_loss: 0.0842 - dense_9_loss: 0.1447 - dense_acc: 0.9945 - dense_1_acc: 0.9510 - dense_2_acc: 0.9200 - dense_3_acc: 0.9351 - dense_4_acc: 1.0000 - dense_5_acc: 0.9902 - dense_6_acc: 0.9645 - dense_7_acc: 0.9999 - dense_8_acc: 0.9752 - dense_9_acc: 0.9578 - val_loss: 1.0776 - val_dense_loss: 0.0175 - val_dense_1_loss: 0.1771 - val_dense_2_loss: 0.2765 - val_dense_3_loss: 0.2196 - val_dense_4_loss: 4.9337e-04 - val_dense_5_loss: 0.0282 - val_dense_6_loss: 0.1250 - val_dense_7_loss: 5.5162e-04 - val_dense_8_loss: 0.0848 - val_dense_9_loss: 0.1479 - val_dense_acc: 0.9961 - val_dense_1_acc: 0.9514 - val_dense_2_acc: 0.9146 - val_dense_3_acc: 0.9322 - val_dense_4_acc: 1.0000 - val_dense_5_acc: 0.9891 - val_dense_6_acc: 0.9617 - val_dense_7_acc: 1.0000 - val_dense_8_acc: 0.9762 - val_dense_9_acc: 0.9549\n",
      "Epoch 35/100\n",
      "400/400 [==============================] - 16s 40ms/step - loss: 1.0246 - dense_loss: 0.0208 - dense_1_loss: 0.1734 - dense_2_loss: 0.2593 - dense_3_loss: 0.2061 - dense_4_loss: 5.4043e-04 - dense_5_loss: 0.0252 - dense_6_loss: 0.1179 - dense_7_loss: 6.4290e-04 - dense_8_loss: 0.0810 - dense_9_loss: 0.1397 - dense_acc: 0.9948 - dense_1_acc: 0.9515 - dense_2_acc: 0.9248 - dense_3_acc: 0.9394 - dense_4_acc: 1.0000 - dense_5_acc: 0.9911 - dense_6_acc: 0.9638 - dense_7_acc: 1.0000 - dense_8_acc: 0.9767 - dense_9_acc: 0.9591 - val_loss: 1.0592 - val_dense_loss: 0.0175 - val_dense_1_loss: 0.1738 - val_dense_2_loss: 0.2719 - val_dense_3_loss: 0.2145 - val_dense_4_loss: 4.5175e-04 - val_dense_5_loss: 0.0283 - val_dense_6_loss: 0.1230 - val_dense_7_loss: 5.6698e-04 - val_dense_8_loss: 0.0829 - val_dense_9_loss: 0.1461 - val_dense_acc: 0.9959 - val_dense_1_acc: 0.9510 - val_dense_2_acc: 0.9176 - val_dense_3_acc: 0.9355 - val_dense_4_acc: 1.0000 - val_dense_5_acc: 0.9900 - val_dense_6_acc: 0.9607 - val_dense_7_acc: 1.0000 - val_dense_8_acc: 0.9770 - val_dense_9_acc: 0.9545\n",
      "Epoch 36/100\n",
      "400/400 [==============================] - 16s 40ms/step - loss: 1.0062 - dense_loss: 0.0207 - dense_1_loss: 0.1692 - dense_2_loss: 0.2555 - dense_3_loss: 0.2032 - dense_4_loss: 5.2519e-04 - dense_5_loss: 0.0263 - dense_6_loss: 0.1138 - dense_7_loss: 6.6479e-04 - dense_8_loss: 0.0790 - dense_9_loss: 0.1373 - dense_acc: 0.9948 - dense_1_acc: 0.9537 - dense_2_acc: 0.9261 - dense_3_acc: 0.9388 - dense_4_acc: 0.9999 - dense_5_acc: 0.9907 - dense_6_acc: 0.9656 - dense_7_acc: 1.0000 - dense_8_acc: 0.9775 - dense_9_acc: 0.9600 - val_loss: 1.0387 - val_dense_loss: 0.0173 - val_dense_1_loss: 0.1711 - val_dense_2_loss: 0.2658 - val_dense_3_loss: 0.2107 - val_dense_4_loss: 4.1006e-04 - val_dense_5_loss: 0.0271 - val_dense_6_loss: 0.1225 - val_dense_7_loss: 5.0424e-04 - val_dense_8_loss: 0.0808 - val_dense_9_loss: 0.1424 - val_dense_acc: 0.9961 - val_dense_1_acc: 0.9527 - val_dense_2_acc: 0.9207 - val_dense_3_acc: 0.9365 - val_dense_4_acc: 1.0000 - val_dense_5_acc: 0.9895 - val_dense_6_acc: 0.9607 - val_dense_7_acc: 1.0000 - val_dense_8_acc: 0.9773 - val_dense_9_acc: 0.9557\n",
      "Epoch 37/100\n",
      "400/400 [==============================] - 16s 39ms/step - loss: 0.9801 - dense_loss: 0.0197 - dense_1_loss: 0.1630 - dense_2_loss: 0.2458 - dense_3_loss: 0.1967 - dense_4_loss: 4.9404e-04 - dense_5_loss: 0.0261 - dense_6_loss: 0.1150 - dense_7_loss: 6.0776e-04 - dense_8_loss: 0.0770 - dense_9_loss: 0.1358 - dense_acc: 0.9951 - dense_1_acc: 0.9560 - dense_2_acc: 0.9301 - dense_3_acc: 0.9400 - dense_4_acc: 1.0000 - dense_5_acc: 0.9905 - dense_6_acc: 0.9656 - dense_7_acc: 1.0000 - dense_8_acc: 0.9780 - dense_9_acc: 0.9599 - val_loss: 1.0218 - val_dense_loss: 0.0172 - val_dense_1_loss: 0.1680 - val_dense_2_loss: 0.2594 - val_dense_3_loss: 0.2079 - val_dense_4_loss: 4.6801e-04 - val_dense_5_loss: 0.0274 - val_dense_6_loss: 0.1208 - val_dense_7_loss: 5.2511e-04 - val_dense_8_loss: 0.0798 - val_dense_9_loss: 0.1403 - val_dense_acc: 0.9961 - val_dense_1_acc: 0.9537 - val_dense_2_acc: 0.9223 - val_dense_3_acc: 0.9375 - val_dense_4_acc: 1.0000 - val_dense_5_acc: 0.9902 - val_dense_6_acc: 0.9609 - val_dense_7_acc: 1.0000 - val_dense_8_acc: 0.9773 - val_dense_9_acc: 0.9559\n",
      "Epoch 38/100\n",
      "400/400 [==============================] - 16s 40ms/step - loss: 0.9666 - dense_loss: 0.0215 - dense_1_loss: 0.1649 - dense_2_loss: 0.2427 - dense_3_loss: 0.1946 - dense_4_loss: 4.4756e-04 - dense_5_loss: 0.0244 - dense_6_loss: 0.1118 - dense_7_loss: 5.6403e-04 - dense_8_loss: 0.0751 - dense_9_loss: 0.1306 - dense_acc: 0.9944 - dense_1_acc: 0.9541 - dense_2_acc: 0.9297 - dense_3_acc: 0.9413 - dense_4_acc: 1.0000 - dense_5_acc: 0.9910 - dense_6_acc: 0.9659 - dense_7_acc: 1.0000 - dense_8_acc: 0.9787 - dense_9_acc: 0.9610 - val_loss: 1.0049 - val_dense_loss: 0.0170 - val_dense_1_loss: 0.1655 - val_dense_2_loss: 0.2545 - val_dense_3_loss: 0.2050 - val_dense_4_loss: 4.0450e-04 - val_dense_5_loss: 0.0264 - val_dense_6_loss: 0.1199 - val_dense_7_loss: 5.0054e-04 - val_dense_8_loss: 0.0786 - val_dense_9_loss: 0.1372 - val_dense_acc: 0.9961 - val_dense_1_acc: 0.9553 - val_dense_2_acc: 0.9250 - val_dense_3_acc: 0.9381 - val_dense_4_acc: 1.0000 - val_dense_5_acc: 0.9898 - val_dense_6_acc: 0.9615 - val_dense_7_acc: 1.0000 - val_dense_8_acc: 0.9779 - val_dense_9_acc: 0.9576\n",
      "Epoch 39/100\n",
      "400/400 [==============================] - 15s 38ms/step - loss: 0.9650 - dense_loss: 0.0202 - dense_1_loss: 0.1595 - dense_2_loss: 0.2399 - dense_3_loss: 0.1921 - dense_4_loss: 4.1340e-04 - dense_5_loss: 0.0254 - dense_6_loss: 0.1177 - dense_7_loss: 5.3241e-04 - dense_8_loss: 0.0747 - dense_9_loss: 0.1345 - dense_acc: 0.9947 - dense_1_acc: 0.9557 - dense_2_acc: 0.9306 - dense_3_acc: 0.9413 - dense_4_acc: 1.0000 - dense_5_acc: 0.9909 - dense_6_acc: 0.9633 - dense_7_acc: 1.0000 - dense_8_acc: 0.9786 - dense_9_acc: 0.9600 - val_loss: 0.9936 - val_dense_loss: 0.0170 - val_dense_1_loss: 0.1625 - val_dense_2_loss: 0.2506 - val_dense_3_loss: 0.2029 - val_dense_4_loss: 3.8139e-04 - val_dense_5_loss: 0.0272 - val_dense_6_loss: 0.1204 - val_dense_7_loss: 4.8869e-04 - val_dense_8_loss: 0.0772 - val_dense_9_loss: 0.1350 - val_dense_acc: 0.9961 - val_dense_1_acc: 0.9561 - val_dense_2_acc: 0.9275 - val_dense_3_acc: 0.9389 - val_dense_4_acc: 1.0000 - val_dense_5_acc: 0.9898 - val_dense_6_acc: 0.9611 - val_dense_7_acc: 1.0000 - val_dense_8_acc: 0.9783 - val_dense_9_acc: 0.9568\n",
      "Epoch 40/100\n",
      "400/400 [==============================] - 15s 38ms/step - loss: 0.9459 - dense_loss: 0.0220 - dense_1_loss: 0.1596 - dense_2_loss: 0.2335 - dense_3_loss: 0.1867 - dense_4_loss: 4.2169e-04 - dense_5_loss: 0.0264 - dense_6_loss: 0.1145 - dense_7_loss: 5.8268e-04 - dense_8_loss: 0.0720 - dense_9_loss: 0.1301 - dense_acc: 0.9942 - dense_1_acc: 0.9556 - dense_2_acc: 0.9324 - dense_3_acc: 0.9457 - dense_4_acc: 1.0000 - dense_5_acc: 0.9899 - dense_6_acc: 0.9637 - dense_7_acc: 1.0000 - dense_8_acc: 0.9804 - dense_9_acc: 0.9613 - val_loss: 0.9766 - val_dense_loss: 0.0168 - val_dense_1_loss: 0.1610 - val_dense_2_loss: 0.2452 - val_dense_3_loss: 0.1995 - val_dense_4_loss: 3.9479e-04 - val_dense_5_loss: 0.0267 - val_dense_6_loss: 0.1184 - val_dense_7_loss: 4.5363e-04 - val_dense_8_loss: 0.0749 - val_dense_9_loss: 0.1332 - val_dense_acc: 0.9961 - val_dense_1_acc: 0.9559 - val_dense_2_acc: 0.9297 - val_dense_3_acc: 0.9398 - val_dense_4_acc: 1.0000 - val_dense_5_acc: 0.9900 - val_dense_6_acc: 0.9615 - val_dense_7_acc: 1.0000 - val_dense_8_acc: 0.9779 - val_dense_9_acc: 0.9572\n"
     ]
    },
    {
     "name": "stdout",
     "output_type": "stream",
     "text": [
      "Epoch 41/100\n",
      "400/400 [==============================] - 16s 39ms/step - loss: 0.9313 - dense_loss: 0.0202 - dense_1_loss: 0.1608 - dense_2_loss: 0.2297 - dense_3_loss: 0.1865 - dense_4_loss: 4.0321e-04 - dense_5_loss: 0.0239 - dense_6_loss: 0.1116 - dense_7_loss: 5.0739e-04 - dense_8_loss: 0.0720 - dense_9_loss: 0.1257 - dense_acc: 0.9944 - dense_1_acc: 0.9551 - dense_2_acc: 0.9332 - dense_3_acc: 0.9445 - dense_4_acc: 1.0000 - dense_5_acc: 0.9913 - dense_6_acc: 0.9664 - dense_7_acc: 1.0000 - dense_8_acc: 0.9796 - dense_9_acc: 0.9624 - val_loss: 0.9628 - val_dense_loss: 0.0166 - val_dense_1_loss: 0.1588 - val_dense_2_loss: 0.2410 - val_dense_3_loss: 0.1954 - val_dense_4_loss: 3.1679e-04 - val_dense_5_loss: 0.0262 - val_dense_6_loss: 0.1180 - val_dense_7_loss: 3.6526e-04 - val_dense_8_loss: 0.0744 - val_dense_9_loss: 0.1317 - val_dense_acc: 0.9961 - val_dense_1_acc: 0.9564 - val_dense_2_acc: 0.9287 - val_dense_3_acc: 0.9406 - val_dense_4_acc: 1.0000 - val_dense_5_acc: 0.9906 - val_dense_6_acc: 0.9621 - val_dense_7_acc: 1.0000 - val_dense_8_acc: 0.9785 - val_dense_9_acc: 0.9572\n",
      "Epoch 42/100\n",
      "400/400 [==============================] - 15s 39ms/step - loss: 0.9109 - dense_loss: 0.0204 - dense_1_loss: 0.1522 - dense_2_loss: 0.2272 - dense_3_loss: 0.1836 - dense_4_loss: 3.7454e-04 - dense_5_loss: 0.0244 - dense_6_loss: 0.1095 - dense_7_loss: 5.0220e-04 - dense_8_loss: 0.0698 - dense_9_loss: 0.1229 - dense_acc: 0.9946 - dense_1_acc: 0.9578 - dense_2_acc: 0.9349 - dense_3_acc: 0.9455 - dense_4_acc: 1.0000 - dense_5_acc: 0.9912 - dense_6_acc: 0.9662 - dense_7_acc: 1.0000 - dense_8_acc: 0.9803 - dense_9_acc: 0.9636 - val_loss: 0.9524 - val_dense_loss: 0.0166 - val_dense_1_loss: 0.1561 - val_dense_2_loss: 0.2355 - val_dense_3_loss: 0.1945 - val_dense_4_loss: 4.0165e-04 - val_dense_5_loss: 0.0272 - val_dense_6_loss: 0.1171 - val_dense_7_loss: 4.7202e-04 - val_dense_8_loss: 0.0742 - val_dense_9_loss: 0.1304 - val_dense_acc: 0.9961 - val_dense_1_acc: 0.9574 - val_dense_2_acc: 0.9316 - val_dense_3_acc: 0.9420 - val_dense_4_acc: 1.0000 - val_dense_5_acc: 0.9900 - val_dense_6_acc: 0.9623 - val_dense_7_acc: 1.0000 - val_dense_8_acc: 0.9781 - val_dense_9_acc: 0.9582\n",
      "Epoch 43/100\n",
      "400/400 [==============================] - 15s 38ms/step - loss: 0.8953 - dense_loss: 0.0198 - dense_1_loss: 0.1539 - dense_2_loss: 0.2189 - dense_3_loss: 0.1811 - dense_4_loss: 3.7520e-04 - dense_5_loss: 0.0242 - dense_6_loss: 0.1091 - dense_7_loss: 5.2038e-04 - dense_8_loss: 0.0663 - dense_9_loss: 0.1212 - dense_acc: 0.9951 - dense_1_acc: 0.9578 - dense_2_acc: 0.9376 - dense_3_acc: 0.9469 - dense_4_acc: 1.0000 - dense_5_acc: 0.9912 - dense_6_acc: 0.9672 - dense_7_acc: 0.9999 - dense_8_acc: 0.9815 - dense_9_acc: 0.9640 - val_loss: 0.9358 - val_dense_loss: 0.0165 - val_dense_1_loss: 0.1545 - val_dense_2_loss: 0.2318 - val_dense_3_loss: 0.1904 - val_dense_4_loss: 3.5843e-04 - val_dense_5_loss: 0.0260 - val_dense_6_loss: 0.1166 - val_dense_7_loss: 4.6167e-04 - val_dense_8_loss: 0.0726 - val_dense_9_loss: 0.1265 - val_dense_acc: 0.9961 - val_dense_1_acc: 0.9578 - val_dense_2_acc: 0.9318 - val_dense_3_acc: 0.9428 - val_dense_4_acc: 1.0000 - val_dense_5_acc: 0.9904 - val_dense_6_acc: 0.9621 - val_dense_7_acc: 1.0000 - val_dense_8_acc: 0.9787 - val_dense_9_acc: 0.9598\n",
      "Epoch 44/100\n",
      "400/400 [==============================] - 16s 39ms/step - loss: 0.8889 - dense_loss: 0.0200 - dense_1_loss: 0.1493 - dense_2_loss: 0.2158 - dense_3_loss: 0.1795 - dense_4_loss: 3.7300e-04 - dense_5_loss: 0.0242 - dense_6_loss: 0.1087 - dense_7_loss: 5.4568e-04 - dense_8_loss: 0.0684 - dense_9_loss: 0.1221 - dense_acc: 0.9946 - dense_1_acc: 0.9592 - dense_2_acc: 0.9393 - dense_3_acc: 0.9478 - dense_4_acc: 1.0000 - dense_5_acc: 0.9910 - dense_6_acc: 0.9657 - dense_7_acc: 1.0000 - dense_8_acc: 0.9808 - dense_9_acc: 0.9640 - val_loss: 0.9248 - val_dense_loss: 0.0165 - val_dense_1_loss: 0.1532 - val_dense_2_loss: 0.2277 - val_dense_3_loss: 0.1870 - val_dense_4_loss: 3.9984e-04 - val_dense_5_loss: 0.0265 - val_dense_6_loss: 0.1158 - val_dense_7_loss: 4.4042e-04 - val_dense_8_loss: 0.0715 - val_dense_9_loss: 0.1257 - val_dense_acc: 0.9961 - val_dense_1_acc: 0.9584 - val_dense_2_acc: 0.9348 - val_dense_3_acc: 0.9449 - val_dense_4_acc: 1.0000 - val_dense_5_acc: 0.9902 - val_dense_6_acc: 0.9623 - val_dense_7_acc: 1.0000 - val_dense_8_acc: 0.9783 - val_dense_9_acc: 0.9588\n",
      "Epoch 45/100\n",
      "400/400 [==============================] - 15s 39ms/step - loss: 0.8860 - dense_loss: 0.0206 - dense_1_loss: 0.1517 - dense_2_loss: 0.2149 - dense_3_loss: 0.1766 - dense_4_loss: 3.8942e-04 - dense_5_loss: 0.0237 - dense_6_loss: 0.1088 - dense_7_loss: 5.0600e-04 - dense_8_loss: 0.0668 - dense_9_loss: 0.1221 - dense_acc: 0.9944 - dense_1_acc: 0.9582 - dense_2_acc: 0.9380 - dense_3_acc: 0.9467 - dense_4_acc: 1.0000 - dense_5_acc: 0.9910 - dense_6_acc: 0.9667 - dense_7_acc: 0.9999 - dense_8_acc: 0.9825 - dense_9_acc: 0.9632 - val_loss: 0.9105 - val_dense_loss: 0.0163 - val_dense_1_loss: 0.1506 - val_dense_2_loss: 0.2234 - val_dense_3_loss: 0.1849 - val_dense_4_loss: 3.8648e-04 - val_dense_5_loss: 0.0256 - val_dense_6_loss: 0.1146 - val_dense_7_loss: 4.4929e-04 - val_dense_8_loss: 0.0703 - val_dense_9_loss: 0.1239 - val_dense_acc: 0.9961 - val_dense_1_acc: 0.9594 - val_dense_2_acc: 0.9359 - val_dense_3_acc: 0.9445 - val_dense_4_acc: 1.0000 - val_dense_5_acc: 0.9902 - val_dense_6_acc: 0.9631 - val_dense_7_acc: 1.0000 - val_dense_8_acc: 0.9779 - val_dense_9_acc: 0.9596\n",
      "Epoch 46/100\n",
      "400/400 [==============================] - 15s 38ms/step - loss: 0.8620 - dense_loss: 0.0204 - dense_1_loss: 0.1468 - dense_2_loss: 0.2078 - dense_3_loss: 0.1716 - dense_4_loss: 4.1896e-04 - dense_5_loss: 0.0247 - dense_6_loss: 0.1085 - dense_7_loss: 5.1943e-04 - dense_8_loss: 0.0666 - dense_9_loss: 0.1147 - dense_acc: 0.9947 - dense_1_acc: 0.9597 - dense_2_acc: 0.9417 - dense_3_acc: 0.9500 - dense_4_acc: 0.9999 - dense_5_acc: 0.9912 - dense_6_acc: 0.9660 - dense_7_acc: 1.0000 - dense_8_acc: 0.9815 - dense_9_acc: 0.9664 - val_loss: 0.9017 - val_dense_loss: 0.0162 - val_dense_1_loss: 0.1491 - val_dense_2_loss: 0.2206 - val_dense_3_loss: 0.1826 - val_dense_4_loss: 3.4699e-04 - val_dense_5_loss: 0.0262 - val_dense_6_loss: 0.1146 - val_dense_7_loss: 3.9786e-04 - val_dense_8_loss: 0.0693 - val_dense_9_loss: 0.1223 - val_dense_acc: 0.9961 - val_dense_1_acc: 0.9598 - val_dense_2_acc: 0.9375 - val_dense_3_acc: 0.9469 - val_dense_4_acc: 1.0000 - val_dense_5_acc: 0.9906 - val_dense_6_acc: 0.9617 - val_dense_7_acc: 1.0000 - val_dense_8_acc: 0.9783 - val_dense_9_acc: 0.9600\n",
      "Epoch 47/100\n",
      "400/400 [==============================] - 15s 39ms/step - loss: 0.8549 - dense_loss: 0.0196 - dense_1_loss: 0.1461 - dense_2_loss: 0.2069 - dense_3_loss: 0.1708 - dense_4_loss: 4.0329e-04 - dense_5_loss: 0.0245 - dense_6_loss: 0.1062 - dense_7_loss: 4.7776e-04 - dense_8_loss: 0.0651 - dense_9_loss: 0.1148 - dense_acc: 0.9947 - dense_1_acc: 0.9592 - dense_2_acc: 0.9416 - dense_3_acc: 0.9511 - dense_4_acc: 1.0000 - dense_5_acc: 0.9915 - dense_6_acc: 0.9680 - dense_7_acc: 1.0000 - dense_8_acc: 0.9832 - dense_9_acc: 0.9670 - val_loss: 0.8874 - val_dense_loss: 0.0161 - val_dense_1_loss: 0.1476 - val_dense_2_loss: 0.2161 - val_dense_3_loss: 0.1795 - val_dense_4_loss: 3.0551e-04 - val_dense_5_loss: 0.0253 - val_dense_6_loss: 0.1138 - val_dense_7_loss: 3.4767e-04 - val_dense_8_loss: 0.0685 - val_dense_9_loss: 0.1199 - val_dense_acc: 0.9961 - val_dense_1_acc: 0.9586 - val_dense_2_acc: 0.9389 - val_dense_3_acc: 0.9467 - val_dense_4_acc: 1.0000 - val_dense_5_acc: 0.9908 - val_dense_6_acc: 0.9621 - val_dense_7_acc: 1.0000 - val_dense_8_acc: 0.9797 - val_dense_9_acc: 0.9619\n",
      "Epoch 48/100\n",
      "400/400 [==============================] - 15s 39ms/step - loss: 0.8472 - dense_loss: 0.0213 - dense_1_loss: 0.1449 - dense_2_loss: 0.2024 - dense_3_loss: 0.1702 - dense_4_loss: 3.4593e-04 - dense_5_loss: 0.0237 - dense_6_loss: 0.1071 - dense_7_loss: 4.8848e-04 - dense_8_loss: 0.0635 - dense_9_loss: 0.1134 - dense_acc: 0.9944 - dense_1_acc: 0.9595 - dense_2_acc: 0.9433 - dense_3_acc: 0.9520 - dense_4_acc: 1.0000 - dense_5_acc: 0.9911 - dense_6_acc: 0.9668 - dense_7_acc: 0.9999 - dense_8_acc: 0.9824 - dense_9_acc: 0.9657 - val_loss: 0.8759 - val_dense_loss: 0.0160 - val_dense_1_loss: 0.1461 - val_dense_2_loss: 0.2127 - val_dense_3_loss: 0.1769 - val_dense_4_loss: 3.3531e-04 - val_dense_5_loss: 0.0255 - val_dense_6_loss: 0.1121 - val_dense_7_loss: 3.9306e-04 - val_dense_8_loss: 0.0669 - val_dense_9_loss: 0.1190 - val_dense_acc: 0.9961 - val_dense_1_acc: 0.9602 - val_dense_2_acc: 0.9400 - val_dense_3_acc: 0.9473 - val_dense_4_acc: 1.0000 - val_dense_5_acc: 0.9908 - val_dense_6_acc: 0.9625 - val_dense_7_acc: 1.0000 - val_dense_8_acc: 0.9793 - val_dense_9_acc: 0.9619\n"
     ]
    },
    {
     "name": "stdout",
     "output_type": "stream",
     "text": [
      "Epoch 49/100\n",
      "400/400 [==============================] - 16s 39ms/step - loss: 0.8289 - dense_loss: 0.0202 - dense_1_loss: 0.1411 - dense_2_loss: 0.1975 - dense_3_loss: 0.1628 - dense_4_loss: 3.1124e-04 - dense_5_loss: 0.0251 - dense_6_loss: 0.1052 - dense_7_loss: 4.2663e-04 - dense_8_loss: 0.0628 - dense_9_loss: 0.1134 - dense_acc: 0.9945 - dense_1_acc: 0.9613 - dense_2_acc: 0.9457 - dense_3_acc: 0.9521 - dense_4_acc: 1.0000 - dense_5_acc: 0.9906 - dense_6_acc: 0.9674 - dense_7_acc: 1.0000 - dense_8_acc: 0.9836 - dense_9_acc: 0.9659 - val_loss: 0.8687 - val_dense_loss: 0.0159 - val_dense_1_loss: 0.1448 - val_dense_2_loss: 0.2102 - val_dense_3_loss: 0.1743 - val_dense_4_loss: 2.9527e-04 - val_dense_5_loss: 0.0258 - val_dense_6_loss: 0.1128 - val_dense_7_loss: 3.4093e-04 - val_dense_8_loss: 0.0661 - val_dense_9_loss: 0.1181 - val_dense_acc: 0.9961 - val_dense_1_acc: 0.9604 - val_dense_2_acc: 0.9412 - val_dense_3_acc: 0.9473 - val_dense_4_acc: 1.0000 - val_dense_5_acc: 0.9902 - val_dense_6_acc: 0.9639 - val_dense_7_acc: 1.0000 - val_dense_8_acc: 0.9799 - val_dense_9_acc: 0.9625\n",
      "Epoch 50/100\n",
      "400/400 [==============================] - 16s 39ms/step - loss: 0.8127 - dense_loss: 0.0203 - dense_1_loss: 0.1387 - dense_2_loss: 0.1948 - dense_3_loss: 0.1610 - dense_4_loss: 3.1673e-04 - dense_5_loss: 0.0232 - dense_6_loss: 0.1036 - dense_7_loss: 4.2500e-04 - dense_8_loss: 0.0602 - dense_9_loss: 0.1101 - dense_acc: 0.9944 - dense_1_acc: 0.9615 - dense_2_acc: 0.9460 - dense_3_acc: 0.9527 - dense_4_acc: 1.0000 - dense_5_acc: 0.9916 - dense_6_acc: 0.9682 - dense_7_acc: 1.0000 - dense_8_acc: 0.9837 - dense_9_acc: 0.9671 - val_loss: 0.8575 - val_dense_loss: 0.0159 - val_dense_1_loss: 0.1431 - val_dense_2_loss: 0.2065 - val_dense_3_loss: 0.1725 - val_dense_4_loss: 3.1292e-04 - val_dense_5_loss: 0.0252 - val_dense_6_loss: 0.1115 - val_dense_7_loss: 3.7320e-04 - val_dense_8_loss: 0.0659 - val_dense_9_loss: 0.1162 - val_dense_acc: 0.9961 - val_dense_1_acc: 0.9604 - val_dense_2_acc: 0.9424 - val_dense_3_acc: 0.9484 - val_dense_4_acc: 1.0000 - val_dense_5_acc: 0.9906 - val_dense_6_acc: 0.9619 - val_dense_7_acc: 1.0000 - val_dense_8_acc: 0.9805 - val_dense_9_acc: 0.9633\n",
      "Epoch 51/100\n",
      "400/400 [==============================] - 15s 39ms/step - loss: 0.8180 - dense_loss: 0.0195 - dense_1_loss: 0.1426 - dense_2_loss: 0.1930 - dense_3_loss: 0.1628 - dense_4_loss: 3.3499e-04 - dense_5_loss: 0.0234 - dense_6_loss: 0.1013 - dense_7_loss: 4.5715e-04 - dense_8_loss: 0.0622 - dense_9_loss: 0.1125 - dense_acc: 0.9949 - dense_1_acc: 0.9600 - dense_2_acc: 0.9459 - dense_3_acc: 0.9529 - dense_4_acc: 1.0000 - dense_5_acc: 0.9916 - dense_6_acc: 0.9697 - dense_7_acc: 0.9999 - dense_8_acc: 0.9819 - dense_9_acc: 0.9665 - val_loss: 0.8473 - val_dense_loss: 0.0158 - val_dense_1_loss: 0.1417 - val_dense_2_loss: 0.2030 - val_dense_3_loss: 0.1711 - val_dense_4_loss: 3.0113e-04 - val_dense_5_loss: 0.0250 - val_dense_6_loss: 0.1109 - val_dense_7_loss: 3.4532e-04 - val_dense_8_loss: 0.0646 - val_dense_9_loss: 0.1146 - val_dense_acc: 0.9961 - val_dense_1_acc: 0.9602 - val_dense_2_acc: 0.9426 - val_dense_3_acc: 0.9484 - val_dense_4_acc: 1.0000 - val_dense_5_acc: 0.9910 - val_dense_6_acc: 0.9627 - val_dense_7_acc: 1.0000 - val_dense_8_acc: 0.9805 - val_dense_9_acc: 0.9637\n",
      "Epoch 52/100\n",
      "400/400 [==============================] - 15s 38ms/step - loss: 0.7908 - dense_loss: 0.0182 - dense_1_loss: 0.1342 - dense_2_loss: 0.1900 - dense_3_loss: 0.1556 - dense_4_loss: 3.0949e-04 - dense_5_loss: 0.0222 - dense_6_loss: 0.1005 - dense_7_loss: 4.7729e-04 - dense_8_loss: 0.0604 - dense_9_loss: 0.1089 - dense_acc: 0.9951 - dense_1_acc: 0.9631 - dense_2_acc: 0.9461 - dense_3_acc: 0.9554 - dense_4_acc: 1.0000 - dense_5_acc: 0.9915 - dense_6_acc: 0.9682 - dense_7_acc: 0.9999 - dense_8_acc: 0.9835 - dense_9_acc: 0.9676 - val_loss: 0.8393 - val_dense_loss: 0.0158 - val_dense_1_loss: 0.1403 - val_dense_2_loss: 0.2007 - val_dense_3_loss: 0.1695 - val_dense_4_loss: 3.6315e-04 - val_dense_5_loss: 0.0247 - val_dense_6_loss: 0.1101 - val_dense_7_loss: 3.7001e-04 - val_dense_8_loss: 0.0636 - val_dense_9_loss: 0.1139 - val_dense_acc: 0.9961 - val_dense_1_acc: 0.9607 - val_dense_2_acc: 0.9453 - val_dense_3_acc: 0.9488 - val_dense_4_acc: 1.0000 - val_dense_5_acc: 0.9910 - val_dense_6_acc: 0.9627 - val_dense_7_acc: 1.0000 - val_dense_8_acc: 0.9807 - val_dense_9_acc: 0.9637\n",
      "Epoch 53/100\n",
      "400/400 [==============================] - 15s 38ms/step - loss: 0.7900 - dense_loss: 0.0193 - dense_1_loss: 0.1355 - dense_2_loss: 0.1858 - dense_3_loss: 0.1531 - dense_4_loss: 2.9692e-04 - dense_5_loss: 0.0236 - dense_6_loss: 0.1027 - dense_7_loss: 4.3598e-04 - dense_8_loss: 0.0602 - dense_9_loss: 0.1092 - dense_acc: 0.9950 - dense_1_acc: 0.9617 - dense_2_acc: 0.9476 - dense_3_acc: 0.9563 - dense_4_acc: 1.0000 - dense_5_acc: 0.9915 - dense_6_acc: 0.9677 - dense_7_acc: 1.0000 - dense_8_acc: 0.9836 - dense_9_acc: 0.9670 - val_loss: 0.8296 - val_dense_loss: 0.0157 - val_dense_1_loss: 0.1393 - val_dense_2_loss: 0.1970 - val_dense_3_loss: 0.1666 - val_dense_4_loss: 3.3962e-04 - val_dense_5_loss: 0.0246 - val_dense_6_loss: 0.1090 - val_dense_7_loss: 3.9504e-04 - val_dense_8_loss: 0.0636 - val_dense_9_loss: 0.1131 - val_dense_acc: 0.9961 - val_dense_1_acc: 0.9609 - val_dense_2_acc: 0.9449 - val_dense_3_acc: 0.9496 - val_dense_4_acc: 1.0000 - val_dense_5_acc: 0.9906 - val_dense_6_acc: 0.9629 - val_dense_7_acc: 1.0000 - val_dense_8_acc: 0.9797 - val_dense_9_acc: 0.9631\n",
      "Epoch 54/100\n",
      "400/400 [==============================] - 15s 38ms/step - loss: 0.7886 - dense_loss: 0.0201 - dense_1_loss: 0.1373 - dense_2_loss: 0.1846 - dense_3_loss: 0.1546 - dense_4_loss: 3.0047e-04 - dense_5_loss: 0.0233 - dense_6_loss: 0.0994 - dense_7_loss: 4.1341e-04 - dense_8_loss: 0.0606 - dense_9_loss: 0.1078 - dense_acc: 0.9943 - dense_1_acc: 0.9606 - dense_2_acc: 0.9499 - dense_3_acc: 0.9566 - dense_4_acc: 1.0000 - dense_5_acc: 0.9908 - dense_6_acc: 0.9699 - dense_7_acc: 1.0000 - dense_8_acc: 0.9835 - dense_9_acc: 0.9667 - val_loss: 0.8195 - val_dense_loss: 0.0156 - val_dense_1_loss: 0.1377 - val_dense_2_loss: 0.1949 - val_dense_3_loss: 0.1642 - val_dense_4_loss: 3.1233e-04 - val_dense_5_loss: 0.0245 - val_dense_6_loss: 0.1084 - val_dense_7_loss: 3.7782e-04 - val_dense_8_loss: 0.0626 - val_dense_9_loss: 0.1109 - val_dense_acc: 0.9961 - val_dense_1_acc: 0.9617 - val_dense_2_acc: 0.9465 - val_dense_3_acc: 0.9514 - val_dense_4_acc: 1.0000 - val_dense_5_acc: 0.9910 - val_dense_6_acc: 0.9635 - val_dense_7_acc: 1.0000 - val_dense_8_acc: 0.9807 - val_dense_9_acc: 0.9643\n",
      "Epoch 55/100\n",
      "400/400 [==============================] - 16s 40ms/step - loss: 0.7817 - dense_loss: 0.0194 - dense_1_loss: 0.1353 - dense_2_loss: 0.1805 - dense_3_loss: 0.1514 - dense_4_loss: 2.9732e-04 - dense_5_loss: 0.0240 - dense_6_loss: 0.1017 - dense_7_loss: 3.6811e-04 - dense_8_loss: 0.0607 - dense_9_loss: 0.1082 - dense_acc: 0.9947 - dense_1_acc: 0.9613 - dense_2_acc: 0.9503 - dense_3_acc: 0.9559 - dense_4_acc: 1.0000 - dense_5_acc: 0.9909 - dense_6_acc: 0.9683 - dense_7_acc: 1.0000 - dense_8_acc: 0.9832 - dense_9_acc: 0.9666 - val_loss: 0.8142 - val_dense_loss: 0.0155 - val_dense_1_loss: 0.1370 - val_dense_2_loss: 0.1920 - val_dense_3_loss: 0.1630 - val_dense_4_loss: 3.0845e-04 - val_dense_5_loss: 0.0251 - val_dense_6_loss: 0.1081 - val_dense_7_loss: 3.3508e-04 - val_dense_8_loss: 0.0626 - val_dense_9_loss: 0.1103 - val_dense_acc: 0.9961 - val_dense_1_acc: 0.9619 - val_dense_2_acc: 0.9477 - val_dense_3_acc: 0.9506 - val_dense_4_acc: 1.0000 - val_dense_5_acc: 0.9908 - val_dense_6_acc: 0.9623 - val_dense_7_acc: 1.0000 - val_dense_8_acc: 0.9812 - val_dense_9_acc: 0.9646\n",
      "Epoch 56/100\n",
      "400/400 [==============================] - 16s 39ms/step - loss: 0.7632 - dense_loss: 0.0199 - dense_1_loss: 0.1336 - dense_2_loss: 0.1757 - dense_3_loss: 0.1470 - dense_4_loss: 2.5490e-04 - dense_5_loss: 0.0236 - dense_6_loss: 0.1004 - dense_7_loss: 4.0316e-04 - dense_8_loss: 0.0585 - dense_9_loss: 0.1039 - dense_acc: 0.9945 - dense_1_acc: 0.9622 - dense_2_acc: 0.9538 - dense_3_acc: 0.9584 - dense_4_acc: 1.0000 - dense_5_acc: 0.9909 - dense_6_acc: 0.9687 - dense_7_acc: 1.0000 - dense_8_acc: 0.9846 - dense_9_acc: 0.9679 - val_loss: 0.8068 - val_dense_loss: 0.0155 - val_dense_1_loss: 0.1359 - val_dense_2_loss: 0.1892 - val_dense_3_loss: 0.1623 - val_dense_4_loss: 3.7037e-04 - val_dense_5_loss: 0.0247 - val_dense_6_loss: 0.1070 - val_dense_7_loss: 4.2395e-04 - val_dense_8_loss: 0.0617 - val_dense_9_loss: 0.1097 - val_dense_acc: 0.9961 - val_dense_1_acc: 0.9619 - val_dense_2_acc: 0.9492 - val_dense_3_acc: 0.9512 - val_dense_4_acc: 1.0000 - val_dense_5_acc: 0.9910 - val_dense_6_acc: 0.9656 - val_dense_7_acc: 1.0000 - val_dense_8_acc: 0.9807 - val_dense_9_acc: 0.9643\n"
     ]
    },
    {
     "name": "stdout",
     "output_type": "stream",
     "text": [
      "Epoch 57/100\n",
      "400/400 [==============================] - 16s 39ms/step - loss: 0.7619 - dense_loss: 0.0197 - dense_1_loss: 0.1333 - dense_2_loss: 0.1771 - dense_3_loss: 0.1471 - dense_4_loss: 2.7298e-04 - dense_5_loss: 0.0223 - dense_6_loss: 0.0990 - dense_7_loss: 3.9340e-04 - dense_8_loss: 0.0575 - dense_9_loss: 0.1053 - dense_acc: 0.9944 - dense_1_acc: 0.9611 - dense_2_acc: 0.9515 - dense_3_acc: 0.9583 - dense_4_acc: 1.0000 - dense_5_acc: 0.9918 - dense_6_acc: 0.9701 - dense_7_acc: 1.0000 - dense_8_acc: 0.9841 - dense_9_acc: 0.9688 - val_loss: 0.8001 - val_dense_loss: 0.0154 - val_dense_1_loss: 0.1346 - val_dense_2_loss: 0.1871 - val_dense_3_loss: 0.1599 - val_dense_4_loss: 3.5452e-04 - val_dense_5_loss: 0.0250 - val_dense_6_loss: 0.1061 - val_dense_7_loss: 4.4009e-04 - val_dense_8_loss: 0.0614 - val_dense_9_loss: 0.1099 - val_dense_acc: 0.9961 - val_dense_1_acc: 0.9619 - val_dense_2_acc: 0.9492 - val_dense_3_acc: 0.9525 - val_dense_4_acc: 1.0000 - val_dense_5_acc: 0.9914 - val_dense_6_acc: 0.9654 - val_dense_7_acc: 1.0000 - val_dense_8_acc: 0.9812 - val_dense_9_acc: 0.9650\n",
      "Epoch 58/100\n",
      "400/400 [==============================] - 15s 38ms/step - loss: 0.7550 - dense_loss: 0.0199 - dense_1_loss: 0.1328 - dense_2_loss: 0.1734 - dense_3_loss: 0.1464 - dense_4_loss: 2.9430e-04 - dense_5_loss: 0.0229 - dense_6_loss: 0.0991 - dense_7_loss: 3.5261e-04 - dense_8_loss: 0.0570 - dense_9_loss: 0.1028 - dense_acc: 0.9945 - dense_1_acc: 0.9622 - dense_2_acc: 0.9528 - dense_3_acc: 0.9594 - dense_4_acc: 1.0000 - dense_5_acc: 0.9914 - dense_6_acc: 0.9692 - dense_7_acc: 1.0000 - dense_8_acc: 0.9841 - dense_9_acc: 0.9696 - val_loss: 0.7897 - val_dense_loss: 0.0153 - val_dense_1_loss: 0.1330 - val_dense_2_loss: 0.1842 - val_dense_3_loss: 0.1579 - val_dense_4_loss: 2.7869e-04 - val_dense_5_loss: 0.0244 - val_dense_6_loss: 0.1061 - val_dense_7_loss: 3.3981e-04 - val_dense_8_loss: 0.0600 - val_dense_9_loss: 0.1082 - val_dense_acc: 0.9961 - val_dense_1_acc: 0.9631 - val_dense_2_acc: 0.9500 - val_dense_3_acc: 0.9533 - val_dense_4_acc: 1.0000 - val_dense_5_acc: 0.9910 - val_dense_6_acc: 0.9635 - val_dense_7_acc: 1.0000 - val_dense_8_acc: 0.9807 - val_dense_9_acc: 0.9648\n",
      "Epoch 59/100\n",
      "400/400 [==============================] - 15s 38ms/step - loss: 0.7426 - dense_loss: 0.0192 - dense_1_loss: 0.1267 - dense_2_loss: 0.1744 - dense_3_loss: 0.1448 - dense_4_loss: 3.0089e-04 - dense_5_loss: 0.0222 - dense_6_loss: 0.0978 - dense_7_loss: 3.7403e-04 - dense_8_loss: 0.0558 - dense_9_loss: 0.1011 - dense_acc: 0.9946 - dense_1_acc: 0.9637 - dense_2_acc: 0.9514 - dense_3_acc: 0.9590 - dense_4_acc: 1.0000 - dense_5_acc: 0.9921 - dense_6_acc: 0.9689 - dense_7_acc: 1.0000 - dense_8_acc: 0.9852 - dense_9_acc: 0.9698 - val_loss: 0.7818 - val_dense_loss: 0.0153 - val_dense_1_loss: 0.1323 - val_dense_2_loss: 0.1823 - val_dense_3_loss: 0.1556 - val_dense_4_loss: 2.5921e-04 - val_dense_5_loss: 0.0242 - val_dense_6_loss: 0.1056 - val_dense_7_loss: 2.9889e-04 - val_dense_8_loss: 0.0595 - val_dense_9_loss: 0.1064 - val_dense_acc: 0.9961 - val_dense_1_acc: 0.9625 - val_dense_2_acc: 0.9506 - val_dense_3_acc: 0.9549 - val_dense_4_acc: 1.0000 - val_dense_5_acc: 0.9914 - val_dense_6_acc: 0.9637 - val_dense_7_acc: 1.0000 - val_dense_8_acc: 0.9809 - val_dense_9_acc: 0.9658\n",
      "Epoch 60/100\n",
      "400/400 [==============================] - 15s 38ms/step - loss: 0.7489 - dense_loss: 0.0206 - dense_1_loss: 0.1329 - dense_2_loss: 0.1720 - dense_3_loss: 0.1422 - dense_4_loss: 2.6779e-04 - dense_5_loss: 0.0225 - dense_6_loss: 0.0988 - dense_7_loss: 4.0226e-04 - dense_8_loss: 0.0567 - dense_9_loss: 0.1025 - dense_acc: 0.9944 - dense_1_acc: 0.9619 - dense_2_acc: 0.9520 - dense_3_acc: 0.9599 - dense_4_acc: 1.0000 - dense_5_acc: 0.9915 - dense_6_acc: 0.9682 - dense_7_acc: 0.9999 - dense_8_acc: 0.9843 - dense_9_acc: 0.9679 - val_loss: 0.7751 - val_dense_loss: 0.0153 - val_dense_1_loss: 0.1313 - val_dense_2_loss: 0.1795 - val_dense_3_loss: 0.1548 - val_dense_4_loss: 2.7841e-04 - val_dense_5_loss: 0.0240 - val_dense_6_loss: 0.1054 - val_dense_7_loss: 3.2562e-04 - val_dense_8_loss: 0.0587 - val_dense_9_loss: 0.1054 - val_dense_acc: 0.9961 - val_dense_1_acc: 0.9627 - val_dense_2_acc: 0.9523 - val_dense_3_acc: 0.9545 - val_dense_4_acc: 1.0000 - val_dense_5_acc: 0.9912 - val_dense_6_acc: 0.9641 - val_dense_7_acc: 1.0000 - val_dense_8_acc: 0.9812 - val_dense_9_acc: 0.9660\n",
      "Epoch 61/100\n",
      "400/400 [==============================] - 15s 38ms/step - loss: 0.7311 - dense_loss: 0.0200 - dense_1_loss: 0.1293 - dense_2_loss: 0.1662 - dense_3_loss: 0.1376 - dense_4_loss: 2.6003e-04 - dense_5_loss: 0.0236 - dense_6_loss: 0.0987 - dense_7_loss: 4.2461e-04 - dense_8_loss: 0.0556 - dense_9_loss: 0.0994 - dense_acc: 0.9945 - dense_1_acc: 0.9633 - dense_2_acc: 0.9552 - dense_3_acc: 0.9611 - dense_4_acc: 1.0000 - dense_5_acc: 0.9911 - dense_6_acc: 0.9687 - dense_7_acc: 0.9999 - dense_8_acc: 0.9851 - dense_9_acc: 0.9704 - val_loss: 0.7687 - val_dense_loss: 0.0152 - val_dense_1_loss: 0.1303 - val_dense_2_loss: 0.1773 - val_dense_3_loss: 0.1528 - val_dense_4_loss: 2.6897e-04 - val_dense_5_loss: 0.0240 - val_dense_6_loss: 0.1053 - val_dense_7_loss: 2.8859e-04 - val_dense_8_loss: 0.0585 - val_dense_9_loss: 0.1047 - val_dense_acc: 0.9961 - val_dense_1_acc: 0.9635 - val_dense_2_acc: 0.9518 - val_dense_3_acc: 0.9543 - val_dense_4_acc: 1.0000 - val_dense_5_acc: 0.9912 - val_dense_6_acc: 0.9625 - val_dense_7_acc: 1.0000 - val_dense_8_acc: 0.9822 - val_dense_9_acc: 0.9658\n",
      "Epoch 62/100\n",
      "400/400 [==============================] - 15s 38ms/step - loss: 0.7245 - dense_loss: 0.0214 - dense_1_loss: 0.1272 - dense_2_loss: 0.1647 - dense_3_loss: 0.1359 - dense_4_loss: 2.5332e-04 - dense_5_loss: 0.0220 - dense_6_loss: 0.0981 - dense_7_loss: 3.5656e-04 - dense_8_loss: 0.0543 - dense_9_loss: 0.1003 - dense_acc: 0.9939 - dense_1_acc: 0.9636 - dense_2_acc: 0.9573 - dense_3_acc: 0.9625 - dense_4_acc: 1.0000 - dense_5_acc: 0.9916 - dense_6_acc: 0.9687 - dense_7_acc: 1.0000 - dense_8_acc: 0.9856 - dense_9_acc: 0.9705 - val_loss: 0.7632 - val_dense_loss: 0.0151 - val_dense_1_loss: 0.1300 - val_dense_2_loss: 0.1757 - val_dense_3_loss: 0.1513 - val_dense_4_loss: 2.8535e-04 - val_dense_5_loss: 0.0239 - val_dense_6_loss: 0.1054 - val_dense_7_loss: 3.1178e-04 - val_dense_8_loss: 0.0577 - val_dense_9_loss: 0.1034 - val_dense_acc: 0.9961 - val_dense_1_acc: 0.9633 - val_dense_2_acc: 0.9516 - val_dense_3_acc: 0.9568 - val_dense_4_acc: 1.0000 - val_dense_5_acc: 0.9906 - val_dense_6_acc: 0.9637 - val_dense_7_acc: 1.0000 - val_dense_8_acc: 0.9811 - val_dense_9_acc: 0.9664\n",
      "Epoch 63/100\n",
      "400/400 [==============================] - 15s 38ms/step - loss: 0.7205 - dense_loss: 0.0207 - dense_1_loss: 0.1280 - dense_2_loss: 0.1643 - dense_3_loss: 0.1345 - dense_4_loss: 2.4889e-04 - dense_5_loss: 0.0219 - dense_6_loss: 0.0967 - dense_7_loss: 3.3771e-04 - dense_8_loss: 0.0547 - dense_9_loss: 0.0990 - dense_acc: 0.9940 - dense_1_acc: 0.9633 - dense_2_acc: 0.9566 - dense_3_acc: 0.9631 - dense_4_acc: 1.0000 - dense_5_acc: 0.9922 - dense_6_acc: 0.9694 - dense_7_acc: 1.0000 - dense_8_acc: 0.9855 - dense_9_acc: 0.9697 - val_loss: 0.7555 - val_dense_loss: 0.0150 - val_dense_1_loss: 0.1288 - val_dense_2_loss: 0.1728 - val_dense_3_loss: 0.1507 - val_dense_4_loss: 3.2635e-04 - val_dense_5_loss: 0.0236 - val_dense_6_loss: 0.1040 - val_dense_7_loss: 3.5191e-04 - val_dense_8_loss: 0.0574 - val_dense_9_loss: 0.1024 - val_dense_acc: 0.9961 - val_dense_1_acc: 0.9635 - val_dense_2_acc: 0.9547 - val_dense_3_acc: 0.9563 - val_dense_4_acc: 1.0000 - val_dense_5_acc: 0.9914 - val_dense_6_acc: 0.9639 - val_dense_7_acc: 1.0000 - val_dense_8_acc: 0.9814 - val_dense_9_acc: 0.9662\n",
      "Epoch 64/100\n",
      "400/400 [==============================] - 15s 38ms/step - loss: 0.7126 - dense_loss: 0.0191 - dense_1_loss: 0.1259 - dense_2_loss: 0.1626 - dense_3_loss: 0.1371 - dense_4_loss: 2.2131e-04 - dense_5_loss: 0.0208 - dense_6_loss: 0.0952 - dense_7_loss: 3.3983e-04 - dense_8_loss: 0.0530 - dense_9_loss: 0.0984 - dense_acc: 0.9949 - dense_1_acc: 0.9633 - dense_2_acc: 0.9568 - dense_3_acc: 0.9628 - dense_4_acc: 1.0000 - dense_5_acc: 0.9926 - dense_6_acc: 0.9703 - dense_7_acc: 1.0000 - dense_8_acc: 0.9866 - dense_9_acc: 0.9699 - val_loss: 0.7493 - val_dense_loss: 0.0151 - val_dense_1_loss: 0.1275 - val_dense_2_loss: 0.1707 - val_dense_3_loss: 0.1487 - val_dense_4_loss: 2.9415e-04 - val_dense_5_loss: 0.0237 - val_dense_6_loss: 0.1037 - val_dense_7_loss: 3.2084e-04 - val_dense_8_loss: 0.0569 - val_dense_9_loss: 0.1024 - val_dense_acc: 0.9961 - val_dense_1_acc: 0.9639 - val_dense_2_acc: 0.9545 - val_dense_3_acc: 0.9568 - val_dense_4_acc: 1.0000 - val_dense_5_acc: 0.9914 - val_dense_6_acc: 0.9648 - val_dense_7_acc: 1.0000 - val_dense_8_acc: 0.9818 - val_dense_9_acc: 0.9666\n"
     ]
    },
    {
     "name": "stdout",
     "output_type": "stream",
     "text": [
      "Epoch 65/100\n",
      "400/400 [==============================] - 15s 38ms/step - loss: 0.7173 - dense_loss: 0.0194 - dense_1_loss: 0.1260 - dense_2_loss: 0.1596 - dense_3_loss: 0.1397 - dense_4_loss: 2.4055e-04 - dense_5_loss: 0.0237 - dense_6_loss: 0.0953 - dense_7_loss: 3.7558e-04 - dense_8_loss: 0.0538 - dense_9_loss: 0.0992 - dense_acc: 0.9948 - dense_1_acc: 0.9635 - dense_2_acc: 0.9572 - dense_3_acc: 0.9629 - dense_4_acc: 1.0000 - dense_5_acc: 0.9910 - dense_6_acc: 0.9702 - dense_7_acc: 1.0000 - dense_8_acc: 0.9855 - dense_9_acc: 0.9699 - val_loss: 0.7450 - val_dense_loss: 0.0149 - val_dense_1_loss: 0.1269 - val_dense_2_loss: 0.1693 - val_dense_3_loss: 0.1477 - val_dense_4_loss: 3.0979e-04 - val_dense_5_loss: 0.0239 - val_dense_6_loss: 0.1037 - val_dense_7_loss: 3.0719e-04 - val_dense_8_loss: 0.0567 - val_dense_9_loss: 0.1013 - val_dense_acc: 0.9961 - val_dense_1_acc: 0.9639 - val_dense_2_acc: 0.9559 - val_dense_3_acc: 0.9568 - val_dense_4_acc: 1.0000 - val_dense_5_acc: 0.9910 - val_dense_6_acc: 0.9646 - val_dense_7_acc: 1.0000 - val_dense_8_acc: 0.9822 - val_dense_9_acc: 0.9668\n",
      "Epoch 66/100\n",
      "400/400 [==============================] - 15s 38ms/step - loss: 0.6898 - dense_loss: 0.0181 - dense_1_loss: 0.1208 - dense_2_loss: 0.1560 - dense_3_loss: 0.1317 - dense_4_loss: 2.6447e-04 - dense_5_loss: 0.0204 - dense_6_loss: 0.0947 - dense_7_loss: 3.2548e-04 - dense_8_loss: 0.0514 - dense_9_loss: 0.0963 - dense_acc: 0.9952 - dense_1_acc: 0.9649 - dense_2_acc: 0.9597 - dense_3_acc: 0.9640 - dense_4_acc: 1.0000 - dense_5_acc: 0.9924 - dense_6_acc: 0.9697 - dense_7_acc: 1.0000 - dense_8_acc: 0.9871 - dense_9_acc: 0.9713 - val_loss: 0.7385 - val_dense_loss: 0.0150 - val_dense_1_loss: 0.1261 - val_dense_2_loss: 0.1676 - val_dense_3_loss: 0.1458 - val_dense_4_loss: 2.5411e-04 - val_dense_5_loss: 0.0237 - val_dense_6_loss: 0.1029 - val_dense_7_loss: 2.7843e-04 - val_dense_8_loss: 0.0562 - val_dense_9_loss: 0.1007 - val_dense_acc: 0.9961 - val_dense_1_acc: 0.9648 - val_dense_2_acc: 0.9557 - val_dense_3_acc: 0.9566 - val_dense_4_acc: 1.0000 - val_dense_5_acc: 0.9914 - val_dense_6_acc: 0.9648 - val_dense_7_acc: 1.0000 - val_dense_8_acc: 0.9836 - val_dense_9_acc: 0.9676\n",
      "Epoch 67/100\n",
      "400/400 [==============================] - 15s 38ms/step - loss: 0.6924 - dense_loss: 0.0187 - dense_1_loss: 0.1220 - dense_2_loss: 0.1551 - dense_3_loss: 0.1297 - dense_4_loss: 2.3625e-04 - dense_5_loss: 0.0221 - dense_6_loss: 0.0954 - dense_7_loss: 3.8682e-04 - dense_8_loss: 0.0528 - dense_9_loss: 0.0960 - dense_acc: 0.9949 - dense_1_acc: 0.9649 - dense_2_acc: 0.9605 - dense_3_acc: 0.9646 - dense_4_acc: 1.0000 - dense_5_acc: 0.9915 - dense_6_acc: 0.9696 - dense_7_acc: 1.0000 - dense_8_acc: 0.9854 - dense_9_acc: 0.9710 - val_loss: 0.7317 - val_dense_loss: 0.0150 - val_dense_1_loss: 0.1255 - val_dense_2_loss: 0.1652 - val_dense_3_loss: 0.1440 - val_dense_4_loss: 2.7497e-04 - val_dense_5_loss: 0.0235 - val_dense_6_loss: 0.1031 - val_dense_7_loss: 2.8543e-04 - val_dense_8_loss: 0.0558 - val_dense_9_loss: 0.0991 - val_dense_acc: 0.9961 - val_dense_1_acc: 0.9650 - val_dense_2_acc: 0.9564 - val_dense_3_acc: 0.9578 - val_dense_4_acc: 1.0000 - val_dense_5_acc: 0.9914 - val_dense_6_acc: 0.9637 - val_dense_7_acc: 1.0000 - val_dense_8_acc: 0.9824 - val_dense_9_acc: 0.9680\n",
      "Epoch 68/100\n",
      "400/400 [==============================] - 15s 39ms/step - loss: 0.7004 - dense_loss: 0.0199 - dense_1_loss: 0.1263 - dense_2_loss: 0.1575 - dense_3_loss: 0.1267 - dense_4_loss: 2.9034e-04 - dense_5_loss: 0.0224 - dense_6_loss: 0.0968 - dense_7_loss: 3.1918e-04 - dense_8_loss: 0.0528 - dense_9_loss: 0.0974 - dense_acc: 0.9941 - dense_1_acc: 0.9628 - dense_2_acc: 0.9583 - dense_3_acc: 0.9668 - dense_4_acc: 0.9999 - dense_5_acc: 0.9914 - dense_6_acc: 0.9693 - dense_7_acc: 1.0000 - dense_8_acc: 0.9859 - dense_9_acc: 0.9699 - val_loss: 0.7253 - val_dense_loss: 0.0149 - val_dense_1_loss: 0.1246 - val_dense_2_loss: 0.1631 - val_dense_3_loss: 0.1429 - val_dense_4_loss: 2.4260e-04 - val_dense_5_loss: 0.0235 - val_dense_6_loss: 0.1019 - val_dense_7_loss: 2.7222e-04 - val_dense_8_loss: 0.0547 - val_dense_9_loss: 0.0990 - val_dense_acc: 0.9961 - val_dense_1_acc: 0.9646 - val_dense_2_acc: 0.9582 - val_dense_3_acc: 0.9582 - val_dense_4_acc: 1.0000 - val_dense_5_acc: 0.9912 - val_dense_6_acc: 0.9650 - val_dense_7_acc: 1.0000 - val_dense_8_acc: 0.9818 - val_dense_9_acc: 0.9678\n",
      "Epoch 69/100\n",
      "400/400 [==============================] - 15s 38ms/step - loss: 0.6889 - dense_loss: 0.0180 - dense_1_loss: 0.1236 - dense_2_loss: 0.1538 - dense_3_loss: 0.1329 - dense_4_loss: 2.1553e-04 - dense_5_loss: 0.0216 - dense_6_loss: 0.0915 - dense_7_loss: 2.9273e-04 - dense_8_loss: 0.0508 - dense_9_loss: 0.0962 - dense_acc: 0.9951 - dense_1_acc: 0.9633 - dense_2_acc: 0.9605 - dense_3_acc: 0.9651 - dense_4_acc: 1.0000 - dense_5_acc: 0.9921 - dense_6_acc: 0.9713 - dense_7_acc: 1.0000 - dense_8_acc: 0.9869 - dense_9_acc: 0.9713 - val_loss: 0.7196 - val_dense_loss: 0.0150 - val_dense_1_loss: 0.1241 - val_dense_2_loss: 0.1618 - val_dense_3_loss: 0.1408 - val_dense_4_loss: 2.5095e-04 - val_dense_5_loss: 0.0232 - val_dense_6_loss: 0.1015 - val_dense_7_loss: 2.7692e-04 - val_dense_8_loss: 0.0544 - val_dense_9_loss: 0.0982 - val_dense_acc: 0.9961 - val_dense_1_acc: 0.9646 - val_dense_2_acc: 0.9588 - val_dense_3_acc: 0.9602 - val_dense_4_acc: 1.0000 - val_dense_5_acc: 0.9916 - val_dense_6_acc: 0.9654 - val_dense_7_acc: 1.0000 - val_dense_8_acc: 0.9824 - val_dense_9_acc: 0.9674\n",
      "Epoch 70/100\n",
      "400/400 [==============================] - 15s 38ms/step - loss: 0.6869 - dense_loss: 0.0196 - dense_1_loss: 0.1240 - dense_2_loss: 0.1516 - dense_3_loss: 0.1277 - dense_4_loss: 2.1482e-04 - dense_5_loss: 0.0221 - dense_6_loss: 0.0942 - dense_7_loss: 3.3402e-04 - dense_8_loss: 0.0513 - dense_9_loss: 0.0958 - dense_acc: 0.9945 - dense_1_acc: 0.9639 - dense_2_acc: 0.9618 - dense_3_acc: 0.9665 - dense_4_acc: 1.0000 - dense_5_acc: 0.9918 - dense_6_acc: 0.9704 - dense_7_acc: 0.9999 - dense_8_acc: 0.9860 - dense_9_acc: 0.9695 - val_loss: 0.7161 - val_dense_loss: 0.0148 - val_dense_1_loss: 0.1236 - val_dense_2_loss: 0.1597 - val_dense_3_loss: 0.1407 - val_dense_4_loss: 2.5198e-04 - val_dense_5_loss: 0.0234 - val_dense_6_loss: 0.1018 - val_dense_7_loss: 2.6759e-04 - val_dense_8_loss: 0.0541 - val_dense_9_loss: 0.0975 - val_dense_acc: 0.9961 - val_dense_1_acc: 0.9648 - val_dense_2_acc: 0.9596 - val_dense_3_acc: 0.9600 - val_dense_4_acc: 1.0000 - val_dense_5_acc: 0.9910 - val_dense_6_acc: 0.9656 - val_dense_7_acc: 1.0000 - val_dense_8_acc: 0.9828 - val_dense_9_acc: 0.9676\n",
      "Epoch 71/100\n",
      "400/400 [==============================] - 15s 38ms/step - loss: 0.6729 - dense_loss: 0.0178 - dense_1_loss: 0.1208 - dense_2_loss: 0.1500 - dense_3_loss: 0.1273 - dense_4_loss: 2.3007e-04 - dense_5_loss: 0.0220 - dense_6_loss: 0.0923 - dense_7_loss: 3.0062e-04 - dense_8_loss: 0.0496 - dense_9_loss: 0.0926 - dense_acc: 0.9949 - dense_1_acc: 0.9656 - dense_2_acc: 0.9630 - dense_3_acc: 0.9672 - dense_4_acc: 1.0000 - dense_5_acc: 0.9912 - dense_6_acc: 0.9710 - dense_7_acc: 1.0000 - dense_8_acc: 0.9872 - dense_9_acc: 0.9714 - val_loss: 0.7098 - val_dense_loss: 0.0147 - val_dense_1_loss: 0.1225 - val_dense_2_loss: 0.1578 - val_dense_3_loss: 0.1390 - val_dense_4_loss: 2.2834e-04 - val_dense_5_loss: 0.0236 - val_dense_6_loss: 0.1009 - val_dense_7_loss: 2.5588e-04 - val_dense_8_loss: 0.0538 - val_dense_9_loss: 0.0969 - val_dense_acc: 0.9961 - val_dense_1_acc: 0.9652 - val_dense_2_acc: 0.9592 - val_dense_3_acc: 0.9602 - val_dense_4_acc: 1.0000 - val_dense_5_acc: 0.9918 - val_dense_6_acc: 0.9646 - val_dense_7_acc: 1.0000 - val_dense_8_acc: 0.9834 - val_dense_9_acc: 0.9676\n",
      "Epoch 72/100\n",
      "400/400 [==============================] - 15s 38ms/step - loss: 0.6632 - dense_loss: 0.0195 - dense_1_loss: 0.1196 - dense_2_loss: 0.1477 - dense_3_loss: 0.1233 - dense_4_loss: 2.3784e-04 - dense_5_loss: 0.0203 - dense_6_loss: 0.0899 - dense_7_loss: 3.1487e-04 - dense_8_loss: 0.0494 - dense_9_loss: 0.0931 - dense_acc: 0.9944 - dense_1_acc: 0.9643 - dense_2_acc: 0.9628 - dense_3_acc: 0.9683 - dense_4_acc: 1.0000 - dense_5_acc: 0.9923 - dense_6_acc: 0.9715 - dense_7_acc: 1.0000 - dense_8_acc: 0.9875 - dense_9_acc: 0.9710 - val_loss: 0.7035 - val_dense_loss: 0.0148 - val_dense_1_loss: 0.1215 - val_dense_2_loss: 0.1560 - val_dense_3_loss: 0.1376 - val_dense_4_loss: 2.4379e-04 - val_dense_5_loss: 0.0232 - val_dense_6_loss: 0.0996 - val_dense_7_loss: 2.7494e-04 - val_dense_8_loss: 0.0534 - val_dense_9_loss: 0.0968 - val_dense_acc: 0.9961 - val_dense_1_acc: 0.9652 - val_dense_2_acc: 0.9611 - val_dense_3_acc: 0.9609 - val_dense_4_acc: 1.0000 - val_dense_5_acc: 0.9914 - val_dense_6_acc: 0.9658 - val_dense_7_acc: 1.0000 - val_dense_8_acc: 0.9832 - val_dense_9_acc: 0.9676\n"
     ]
    },
    {
     "name": "stdout",
     "output_type": "stream",
     "text": [
      "Epoch 73/100\n",
      "400/400 [==============================] - 15s 38ms/step - loss: 0.6577 - dense_loss: 0.0190 - dense_1_loss: 0.1202 - dense_2_loss: 0.1465 - dense_3_loss: 0.1221 - dense_4_loss: 2.2381e-04 - dense_5_loss: 0.0208 - dense_6_loss: 0.0888 - dense_7_loss: 3.4542e-04 - dense_8_loss: 0.0498 - dense_9_loss: 0.0901 - dense_acc: 0.9945 - dense_1_acc: 0.9645 - dense_2_acc: 0.9631 - dense_3_acc: 0.9681 - dense_4_acc: 1.0000 - dense_5_acc: 0.9919 - dense_6_acc: 0.9719 - dense_7_acc: 1.0000 - dense_8_acc: 0.9866 - dense_9_acc: 0.9732 - val_loss: 0.7002 - val_dense_loss: 0.0147 - val_dense_1_loss: 0.1215 - val_dense_2_loss: 0.1547 - val_dense_3_loss: 0.1361 - val_dense_4_loss: 2.2942e-04 - val_dense_5_loss: 0.0232 - val_dense_6_loss: 0.0996 - val_dense_7_loss: 2.6318e-04 - val_dense_8_loss: 0.0533 - val_dense_9_loss: 0.0965 - val_dense_acc: 0.9961 - val_dense_1_acc: 0.9652 - val_dense_2_acc: 0.9613 - val_dense_3_acc: 0.9617 - val_dense_4_acc: 1.0000 - val_dense_5_acc: 0.9916 - val_dense_6_acc: 0.9662 - val_dense_7_acc: 1.0000 - val_dense_8_acc: 0.9826 - val_dense_9_acc: 0.9674\n",
      "Epoch 74/100\n",
      "400/400 [==============================] - 15s 38ms/step - loss: 0.6544 - dense_loss: 0.0188 - dense_1_loss: 0.1170 - dense_2_loss: 0.1416 - dense_3_loss: 0.1197 - dense_4_loss: 2.0553e-04 - dense_5_loss: 0.0222 - dense_6_loss: 0.0932 - dense_7_loss: 2.9292e-04 - dense_8_loss: 0.0494 - dense_9_loss: 0.0920 - dense_acc: 0.9948 - dense_1_acc: 0.9662 - dense_2_acc: 0.9656 - dense_3_acc: 0.9684 - dense_4_acc: 1.0000 - dense_5_acc: 0.9914 - dense_6_acc: 0.9704 - dense_7_acc: 1.0000 - dense_8_acc: 0.9874 - dense_9_acc: 0.9722 - val_loss: 0.6964 - val_dense_loss: 0.0147 - val_dense_1_loss: 0.1204 - val_dense_2_loss: 0.1532 - val_dense_3_loss: 0.1351 - val_dense_4_loss: 2.6058e-04 - val_dense_5_loss: 0.0235 - val_dense_6_loss: 0.0999 - val_dense_7_loss: 2.6827e-04 - val_dense_8_loss: 0.0531 - val_dense_9_loss: 0.0959 - val_dense_acc: 0.9961 - val_dense_1_acc: 0.9654 - val_dense_2_acc: 0.9613 - val_dense_3_acc: 0.9609 - val_dense_4_acc: 1.0000 - val_dense_5_acc: 0.9920 - val_dense_6_acc: 0.9660 - val_dense_7_acc: 1.0000 - val_dense_8_acc: 0.9832 - val_dense_9_acc: 0.9680\n",
      "Epoch 75/100\n",
      "400/400 [==============================] - 15s 38ms/step - loss: 0.6448 - dense_loss: 0.0182 - dense_1_loss: 0.1187 - dense_2_loss: 0.1415 - dense_3_loss: 0.1203 - dense_4_loss: 2.2338e-04 - dense_5_loss: 0.0210 - dense_6_loss: 0.0888 - dense_7_loss: 2.8009e-04 - dense_8_loss: 0.0463 - dense_9_loss: 0.0895 - dense_acc: 0.9949 - dense_1_acc: 0.9654 - dense_2_acc: 0.9651 - dense_3_acc: 0.9681 - dense_4_acc: 1.0000 - dense_5_acc: 0.9915 - dense_6_acc: 0.9718 - dense_7_acc: 1.0000 - dense_8_acc: 0.9882 - dense_9_acc: 0.9730 - val_loss: 0.6883 - val_dense_loss: 0.0146 - val_dense_1_loss: 0.1199 - val_dense_2_loss: 0.1512 - val_dense_3_loss: 0.1339 - val_dense_4_loss: 2.1579e-04 - val_dense_5_loss: 0.0228 - val_dense_6_loss: 0.0989 - val_dense_7_loss: 2.5630e-04 - val_dense_8_loss: 0.0520 - val_dense_9_loss: 0.0946 - val_dense_acc: 0.9961 - val_dense_1_acc: 0.9658 - val_dense_2_acc: 0.9631 - val_dense_3_acc: 0.9635 - val_dense_4_acc: 1.0000 - val_dense_5_acc: 0.9920 - val_dense_6_acc: 0.9662 - val_dense_7_acc: 1.0000 - val_dense_8_acc: 0.9832 - val_dense_9_acc: 0.9686\n",
      "Epoch 76/100\n",
      "400/400 [==============================] - 15s 38ms/step - loss: 0.6596 - dense_loss: 0.0193 - dense_1_loss: 0.1216 - dense_2_loss: 0.1432 - dense_3_loss: 0.1216 - dense_4_loss: 1.9083e-04 - dense_5_loss: 0.0216 - dense_6_loss: 0.0887 - dense_7_loss: 2.8326e-04 - dense_8_loss: 0.0499 - dense_9_loss: 0.0931 - dense_acc: 0.9946 - dense_1_acc: 0.9635 - dense_2_acc: 0.9647 - dense_3_acc: 0.9685 - dense_4_acc: 1.0000 - dense_5_acc: 0.9914 - dense_6_acc: 0.9728 - dense_7_acc: 1.0000 - dense_8_acc: 0.9861 - dense_9_acc: 0.9707 - val_loss: 0.6851 - val_dense_loss: 0.0146 - val_dense_1_loss: 0.1191 - val_dense_2_loss: 0.1497 - val_dense_3_loss: 0.1332 - val_dense_4_loss: 2.7634e-04 - val_dense_5_loss: 0.0226 - val_dense_6_loss: 0.0989 - val_dense_7_loss: 2.9549e-04 - val_dense_8_loss: 0.0517 - val_dense_9_loss: 0.0948 - val_dense_acc: 0.9961 - val_dense_1_acc: 0.9656 - val_dense_2_acc: 0.9646 - val_dense_3_acc: 0.9637 - val_dense_4_acc: 1.0000 - val_dense_5_acc: 0.9920 - val_dense_6_acc: 0.9660 - val_dense_7_acc: 1.0000 - val_dense_8_acc: 0.9832 - val_dense_9_acc: 0.9680\n",
      "Epoch 77/100\n",
      "400/400 [==============================] - 15s 38ms/step - loss: 0.6438 - dense_loss: 0.0184 - dense_1_loss: 0.1182 - dense_2_loss: 0.1371 - dense_3_loss: 0.1205 - dense_4_loss: 1.9819e-04 - dense_5_loss: 0.0213 - dense_6_loss: 0.0905 - dense_7_loss: 3.0468e-04 - dense_8_loss: 0.0477 - dense_9_loss: 0.0897 - dense_acc: 0.9947 - dense_1_acc: 0.9651 - dense_2_acc: 0.9672 - dense_3_acc: 0.9683 - dense_4_acc: 1.0000 - dense_5_acc: 0.9915 - dense_6_acc: 0.9714 - dense_7_acc: 1.0000 - dense_8_acc: 0.9874 - dense_9_acc: 0.9724 - val_loss: 0.6818 - val_dense_loss: 0.0145 - val_dense_1_loss: 0.1184 - val_dense_2_loss: 0.1479 - val_dense_3_loss: 0.1327 - val_dense_4_loss: 2.9332e-04 - val_dense_5_loss: 0.0232 - val_dense_6_loss: 0.0990 - val_dense_7_loss: 3.3636e-04 - val_dense_8_loss: 0.0520 - val_dense_9_loss: 0.0935 - val_dense_acc: 0.9961 - val_dense_1_acc: 0.9654 - val_dense_2_acc: 0.9643 - val_dense_3_acc: 0.9629 - val_dense_4_acc: 1.0000 - val_dense_5_acc: 0.9908 - val_dense_6_acc: 0.9668 - val_dense_7_acc: 1.0000 - val_dense_8_acc: 0.9830 - val_dense_9_acc: 0.9689\n",
      "Epoch 78/100\n",
      "400/400 [==============================] - 15s 38ms/step - loss: 0.6303 - dense_loss: 0.0174 - dense_1_loss: 0.1151 - dense_2_loss: 0.1382 - dense_3_loss: 0.1172 - dense_4_loss: 2.1265e-04 - dense_5_loss: 0.0196 - dense_6_loss: 0.0875 - dense_7_loss: 2.5866e-04 - dense_8_loss: 0.0478 - dense_9_loss: 0.0872 - dense_acc: 0.9952 - dense_1_acc: 0.9654 - dense_2_acc: 0.9666 - dense_3_acc: 0.9699 - dense_4_acc: 1.0000 - dense_5_acc: 0.9928 - dense_6_acc: 0.9723 - dense_7_acc: 1.0000 - dense_8_acc: 0.9870 - dense_9_acc: 0.9729 - val_loss: 0.6771 - val_dense_loss: 0.0146 - val_dense_1_loss: 0.1183 - val_dense_2_loss: 0.1469 - val_dense_3_loss: 0.1307 - val_dense_4_loss: 2.2273e-04 - val_dense_5_loss: 0.0229 - val_dense_6_loss: 0.0984 - val_dense_7_loss: 2.3940e-04 - val_dense_8_loss: 0.0513 - val_dense_9_loss: 0.0936 - val_dense_acc: 0.9961 - val_dense_1_acc: 0.9662 - val_dense_2_acc: 0.9658 - val_dense_3_acc: 0.9643 - val_dense_4_acc: 1.0000 - val_dense_5_acc: 0.9916 - val_dense_6_acc: 0.9678 - val_dense_7_acc: 1.0000 - val_dense_8_acc: 0.9840 - val_dense_9_acc: 0.9689\n",
      "Epoch 79/100\n",
      "400/400 [==============================] - 15s 38ms/step - loss: 0.6273 - dense_loss: 0.0182 - dense_1_loss: 0.1154 - dense_2_loss: 0.1361 - dense_3_loss: 0.1163 - dense_4_loss: 2.1241e-04 - dense_5_loss: 0.0200 - dense_6_loss: 0.0874 - dense_7_loss: 2.7405e-04 - dense_8_loss: 0.0465 - dense_9_loss: 0.0870 - dense_acc: 0.9950 - dense_1_acc: 0.9661 - dense_2_acc: 0.9672 - dense_3_acc: 0.9698 - dense_4_acc: 1.0000 - dense_5_acc: 0.9926 - dense_6_acc: 0.9720 - dense_7_acc: 1.0000 - dense_8_acc: 0.9878 - dense_9_acc: 0.9736 - val_loss: 0.6723 - val_dense_loss: 0.0144 - val_dense_1_loss: 0.1177 - val_dense_2_loss: 0.1455 - val_dense_3_loss: 0.1297 - val_dense_4_loss: 2.0735e-04 - val_dense_5_loss: 0.0227 - val_dense_6_loss: 0.0983 - val_dense_7_loss: 2.2281e-04 - val_dense_8_loss: 0.0509 - val_dense_9_loss: 0.0926 - val_dense_acc: 0.9961 - val_dense_1_acc: 0.9662 - val_dense_2_acc: 0.9658 - val_dense_3_acc: 0.9646 - val_dense_4_acc: 1.0000 - val_dense_5_acc: 0.9916 - val_dense_6_acc: 0.9674 - val_dense_7_acc: 1.0000 - val_dense_8_acc: 0.9828 - val_dense_9_acc: 0.9693\n",
      "Epoch 80/100\n",
      "400/400 [==============================] - 15s 38ms/step - loss: 0.6294 - dense_loss: 0.0182 - dense_1_loss: 0.1146 - dense_2_loss: 0.1352 - dense_3_loss: 0.1171 - dense_4_loss: 2.2387e-04 - dense_5_loss: 0.0206 - dense_6_loss: 0.0889 - dense_7_loss: 2.8458e-04 - dense_8_loss: 0.0478 - dense_9_loss: 0.0865 - dense_acc: 0.9947 - dense_1_acc: 0.9660 - dense_2_acc: 0.9675 - dense_3_acc: 0.9699 - dense_4_acc: 1.0000 - dense_5_acc: 0.9921 - dense_6_acc: 0.9711 - dense_7_acc: 1.0000 - dense_8_acc: 0.9867 - dense_9_acc: 0.9738 - val_loss: 0.6690 - val_dense_loss: 0.0145 - val_dense_1_loss: 0.1173 - val_dense_2_loss: 0.1446 - val_dense_3_loss: 0.1287 - val_dense_4_loss: 1.9874e-04 - val_dense_5_loss: 0.0222 - val_dense_6_loss: 0.0982 - val_dense_7_loss: 2.1311e-04 - val_dense_8_loss: 0.0507 - val_dense_9_loss: 0.0924 - val_dense_acc: 0.9961 - val_dense_1_acc: 0.9660 - val_dense_2_acc: 0.9668 - val_dense_3_acc: 0.9654 - val_dense_4_acc: 1.0000 - val_dense_5_acc: 0.9918 - val_dense_6_acc: 0.9666 - val_dense_7_acc: 1.0000 - val_dense_8_acc: 0.9838 - val_dense_9_acc: 0.9691\n"
     ]
    },
    {
     "name": "stdout",
     "output_type": "stream",
     "text": [
      "Epoch 81/100\n",
      "400/400 [==============================] - 15s 38ms/step - loss: 0.6204 - dense_loss: 0.0169 - dense_1_loss: 0.1139 - dense_2_loss: 0.1340 - dense_3_loss: 0.1128 - dense_4_loss: 1.9769e-04 - dense_5_loss: 0.0201 - dense_6_loss: 0.0881 - dense_7_loss: 2.7094e-04 - dense_8_loss: 0.0454 - dense_9_loss: 0.0887 - dense_acc: 0.9953 - dense_1_acc: 0.9660 - dense_2_acc: 0.9680 - dense_3_acc: 0.9707 - dense_4_acc: 1.0000 - dense_5_acc: 0.9923 - dense_6_acc: 0.9718 - dense_7_acc: 1.0000 - dense_8_acc: 0.9877 - dense_9_acc: 0.9721 - val_loss: 0.6642 - val_dense_loss: 0.0145 - val_dense_1_loss: 0.1168 - val_dense_2_loss: 0.1425 - val_dense_3_loss: 0.1277 - val_dense_4_loss: 2.3134e-04 - val_dense_5_loss: 0.0224 - val_dense_6_loss: 0.0972 - val_dense_7_loss: 2.4598e-04 - val_dense_8_loss: 0.0507 - val_dense_9_loss: 0.0918 - val_dense_acc: 0.9961 - val_dense_1_acc: 0.9662 - val_dense_2_acc: 0.9670 - val_dense_3_acc: 0.9654 - val_dense_4_acc: 1.0000 - val_dense_5_acc: 0.9918 - val_dense_6_acc: 0.9670 - val_dense_7_acc: 1.0000 - val_dense_8_acc: 0.9838 - val_dense_9_acc: 0.9686\n",
      "Epoch 82/100\n",
      "400/400 [==============================] - 15s 38ms/step - loss: 0.6252 - dense_loss: 0.0190 - dense_1_loss: 0.1160 - dense_2_loss: 0.1332 - dense_3_loss: 0.1126 - dense_4_loss: 1.9698e-04 - dense_5_loss: 0.0216 - dense_6_loss: 0.0888 - dense_7_loss: 2.8687e-04 - dense_8_loss: 0.0475 - dense_9_loss: 0.0860 - dense_acc: 0.9942 - dense_1_acc: 0.9650 - dense_2_acc: 0.9686 - dense_3_acc: 0.9714 - dense_4_acc: 1.0000 - dense_5_acc: 0.9919 - dense_6_acc: 0.9712 - dense_7_acc: 1.0000 - dense_8_acc: 0.9874 - dense_9_acc: 0.9741 - val_loss: 0.6599 - val_dense_loss: 0.0144 - val_dense_1_loss: 0.1161 - val_dense_2_loss: 0.1416 - val_dense_3_loss: 0.1269 - val_dense_4_loss: 2.2651e-04 - val_dense_5_loss: 0.0225 - val_dense_6_loss: 0.0971 - val_dense_7_loss: 2.2147e-04 - val_dense_8_loss: 0.0496 - val_dense_9_loss: 0.0911 - val_dense_acc: 0.9961 - val_dense_1_acc: 0.9658 - val_dense_2_acc: 0.9678 - val_dense_3_acc: 0.9664 - val_dense_4_acc: 1.0000 - val_dense_5_acc: 0.9912 - val_dense_6_acc: 0.9670 - val_dense_7_acc: 1.0000 - val_dense_8_acc: 0.9844 - val_dense_9_acc: 0.9689\n",
      "Epoch 83/100\n",
      "400/400 [==============================] - 15s 38ms/step - loss: 0.6107 - dense_loss: 0.0187 - dense_1_loss: 0.1100 - dense_2_loss: 0.1282 - dense_3_loss: 0.1164 - dense_4_loss: 1.6932e-04 - dense_5_loss: 0.0202 - dense_6_loss: 0.0867 - dense_7_loss: 2.8118e-04 - dense_8_loss: 0.0454 - dense_9_loss: 0.0846 - dense_acc: 0.9943 - dense_1_acc: 0.9673 - dense_2_acc: 0.9701 - dense_3_acc: 0.9701 - dense_4_acc: 1.0000 - dense_5_acc: 0.9920 - dense_6_acc: 0.9714 - dense_7_acc: 1.0000 - dense_8_acc: 0.9883 - dense_9_acc: 0.9746 - val_loss: 0.6552 - val_dense_loss: 0.0144 - val_dense_1_loss: 0.1157 - val_dense_2_loss: 0.1400 - val_dense_3_loss: 0.1259 - val_dense_4_loss: 2.2740e-04 - val_dense_5_loss: 0.0222 - val_dense_6_loss: 0.0966 - val_dense_7_loss: 2.4774e-04 - val_dense_8_loss: 0.0497 - val_dense_9_loss: 0.0903 - val_dense_acc: 0.9961 - val_dense_1_acc: 0.9662 - val_dense_2_acc: 0.9682 - val_dense_3_acc: 0.9666 - val_dense_4_acc: 1.0000 - val_dense_5_acc: 0.9920 - val_dense_6_acc: 0.9672 - val_dense_7_acc: 1.0000 - val_dense_8_acc: 0.9834 - val_dense_9_acc: 0.9703\n",
      "Epoch 84/100\n",
      "400/400 [==============================] - 15s 38ms/step - loss: 0.6244 - dense_loss: 0.0178 - dense_1_loss: 0.1168 - dense_2_loss: 0.1302 - dense_3_loss: 0.1158 - dense_4_loss: 1.7675e-04 - dense_5_loss: 0.0210 - dense_6_loss: 0.0900 - dense_7_loss: 2.6742e-04 - dense_8_loss: 0.0465 - dense_9_loss: 0.0859 - dense_acc: 0.9948 - dense_1_acc: 0.9649 - dense_2_acc: 0.9694 - dense_3_acc: 0.9709 - dense_4_acc: 1.0000 - dense_5_acc: 0.9919 - dense_6_acc: 0.9709 - dense_7_acc: 1.0000 - dense_8_acc: 0.9882 - dense_9_acc: 0.9737 - val_loss: 0.6519 - val_dense_loss: 0.0143 - val_dense_1_loss: 0.1151 - val_dense_2_loss: 0.1389 - val_dense_3_loss: 0.1248 - val_dense_4_loss: 2.1494e-04 - val_dense_5_loss: 0.0223 - val_dense_6_loss: 0.0968 - val_dense_7_loss: 2.3466e-04 - val_dense_8_loss: 0.0493 - val_dense_9_loss: 0.0900 - val_dense_acc: 0.9961 - val_dense_1_acc: 0.9660 - val_dense_2_acc: 0.9674 - val_dense_3_acc: 0.9668 - val_dense_4_acc: 1.0000 - val_dense_5_acc: 0.9914 - val_dense_6_acc: 0.9676 - val_dense_7_acc: 1.0000 - val_dense_8_acc: 0.9840 - val_dense_9_acc: 0.9699\n",
      "Epoch 85/100\n",
      "400/400 [==============================] - 15s 38ms/step - loss: 0.6020 - dense_loss: 0.0178 - dense_1_loss: 0.1131 - dense_2_loss: 0.1280 - dense_3_loss: 0.1068 - dense_4_loss: 1.8649e-04 - dense_5_loss: 0.0205 - dense_6_loss: 0.0871 - dense_7_loss: 3.0461e-04 - dense_8_loss: 0.0457 - dense_9_loss: 0.0825 - dense_acc: 0.9947 - dense_1_acc: 0.9663 - dense_2_acc: 0.9704 - dense_3_acc: 0.9726 - dense_4_acc: 1.0000 - dense_5_acc: 0.9925 - dense_6_acc: 0.9723 - dense_7_acc: 1.0000 - dense_8_acc: 0.9878 - dense_9_acc: 0.9748 - val_loss: 0.6486 - val_dense_loss: 0.0144 - val_dense_1_loss: 0.1144 - val_dense_2_loss: 0.1377 - val_dense_3_loss: 0.1242 - val_dense_4_loss: 2.2566e-04 - val_dense_5_loss: 0.0221 - val_dense_6_loss: 0.0964 - val_dense_7_loss: 2.4831e-04 - val_dense_8_loss: 0.0489 - val_dense_9_loss: 0.0901 - val_dense_acc: 0.9961 - val_dense_1_acc: 0.9664 - val_dense_2_acc: 0.9682 - val_dense_3_acc: 0.9676 - val_dense_4_acc: 1.0000 - val_dense_5_acc: 0.9918 - val_dense_6_acc: 0.9668 - val_dense_7_acc: 1.0000 - val_dense_8_acc: 0.9846 - val_dense_9_acc: 0.9697\n",
      "Epoch 86/100\n",
      "400/400 [==============================] - 15s 38ms/step - loss: 0.6131 - dense_loss: 0.0198 - dense_1_loss: 0.1151 - dense_2_loss: 0.1286 - dense_3_loss: 0.1112 - dense_4_loss: 1.6820e-04 - dense_5_loss: 0.0202 - dense_6_loss: 0.0868 - dense_7_loss: 2.8858e-04 - dense_8_loss: 0.0461 - dense_9_loss: 0.0850 - dense_acc: 0.9943 - dense_1_acc: 0.9652 - dense_2_acc: 0.9709 - dense_3_acc: 0.9726 - dense_4_acc: 1.0000 - dense_5_acc: 0.9923 - dense_6_acc: 0.9722 - dense_7_acc: 1.0000 - dense_8_acc: 0.9873 - dense_9_acc: 0.9738 - val_loss: 0.6435 - val_dense_loss: 0.0143 - val_dense_1_loss: 0.1140 - val_dense_2_loss: 0.1364 - val_dense_3_loss: 0.1233 - val_dense_4_loss: 1.8333e-04 - val_dense_5_loss: 0.0222 - val_dense_6_loss: 0.0955 - val_dense_7_loss: 2.1536e-04 - val_dense_8_loss: 0.0479 - val_dense_9_loss: 0.0895 - val_dense_acc: 0.9961 - val_dense_1_acc: 0.9662 - val_dense_2_acc: 0.9688 - val_dense_3_acc: 0.9672 - val_dense_4_acc: 1.0000 - val_dense_5_acc: 0.9918 - val_dense_6_acc: 0.9676 - val_dense_7_acc: 1.0000 - val_dense_8_acc: 0.9852 - val_dense_9_acc: 0.9703\n",
      "Epoch 87/100\n",
      "400/400 [==============================] - 15s 38ms/step - loss: 0.5935 - dense_loss: 0.0169 - dense_1_loss: 0.1111 - dense_2_loss: 0.1265 - dense_3_loss: 0.1085 - dense_4_loss: 1.6877e-04 - dense_5_loss: 0.0195 - dense_6_loss: 0.0831 - dense_7_loss: 2.6292e-04 - dense_8_loss: 0.0457 - dense_9_loss: 0.0817 - dense_acc: 0.9951 - dense_1_acc: 0.9657 - dense_2_acc: 0.9704 - dense_3_acc: 0.9734 - dense_4_acc: 1.0000 - dense_5_acc: 0.9925 - dense_6_acc: 0.9742 - dense_7_acc: 1.0000 - dense_8_acc: 0.9874 - dense_9_acc: 0.9756 - val_loss: 0.6400 - val_dense_loss: 0.0143 - val_dense_1_loss: 0.1137 - val_dense_2_loss: 0.1352 - val_dense_3_loss: 0.1221 - val_dense_4_loss: 1.8518e-04 - val_dense_5_loss: 0.0220 - val_dense_6_loss: 0.0951 - val_dense_7_loss: 2.3119e-04 - val_dense_8_loss: 0.0485 - val_dense_9_loss: 0.0888 - val_dense_acc: 0.9961 - val_dense_1_acc: 0.9664 - val_dense_2_acc: 0.9697 - val_dense_3_acc: 0.9682 - val_dense_4_acc: 1.0000 - val_dense_5_acc: 0.9918 - val_dense_6_acc: 0.9668 - val_dense_7_acc: 1.0000 - val_dense_8_acc: 0.9846 - val_dense_9_acc: 0.9703\n",
      "Epoch 88/100\n",
      "400/400 [==============================] - 15s 38ms/step - loss: 0.5974 - dense_loss: 0.0183 - dense_1_loss: 0.1113 - dense_2_loss: 0.1226 - dense_3_loss: 0.1071 - dense_4_loss: 1.7858e-04 - dense_5_loss: 0.0206 - dense_6_loss: 0.0883 - dense_7_loss: 2.7226e-04 - dense_8_loss: 0.0451 - dense_9_loss: 0.0836 - dense_acc: 0.9947 - dense_1_acc: 0.9666 - dense_2_acc: 0.9725 - dense_3_acc: 0.9734 - dense_4_acc: 1.0000 - dense_5_acc: 0.9920 - dense_6_acc: 0.9714 - dense_7_acc: 1.0000 - dense_8_acc: 0.9885 - dense_9_acc: 0.9743 - val_loss: 0.6359 - val_dense_loss: 0.0143 - val_dense_1_loss: 0.1131 - val_dense_2_loss: 0.1340 - val_dense_3_loss: 0.1211 - val_dense_4_loss: 1.8638e-04 - val_dense_5_loss: 0.0219 - val_dense_6_loss: 0.0948 - val_dense_7_loss: 2.2521e-04 - val_dense_8_loss: 0.0479 - val_dense_9_loss: 0.0884 - val_dense_acc: 0.9961 - val_dense_1_acc: 0.9668 - val_dense_2_acc: 0.9701 - val_dense_3_acc: 0.9688 - val_dense_4_acc: 1.0000 - val_dense_5_acc: 0.9918 - val_dense_6_acc: 0.9672 - val_dense_7_acc: 1.0000 - val_dense_8_acc: 0.9852 - val_dense_9_acc: 0.9707\n"
     ]
    },
    {
     "name": "stdout",
     "output_type": "stream",
     "text": [
      "Epoch 89/100\n",
      "400/400 [==============================] - 15s 38ms/step - loss: 0.5957 - dense_loss: 0.0185 - dense_1_loss: 0.1125 - dense_2_loss: 0.1221 - dense_3_loss: 0.1070 - dense_4_loss: 1.7067e-04 - dense_5_loss: 0.0202 - dense_6_loss: 0.0843 - dense_7_loss: 2.6127e-04 - dense_8_loss: 0.0454 - dense_9_loss: 0.0852 - dense_acc: 0.9946 - dense_1_acc: 0.9658 - dense_2_acc: 0.9728 - dense_3_acc: 0.9735 - dense_4_acc: 1.0000 - dense_5_acc: 0.9922 - dense_6_acc: 0.9731 - dense_7_acc: 1.0000 - dense_8_acc: 0.9882 - dense_9_acc: 0.9733 - val_loss: 0.6332 - val_dense_loss: 0.0142 - val_dense_1_loss: 0.1124 - val_dense_2_loss: 0.1330 - val_dense_3_loss: 0.1201 - val_dense_4_loss: 1.7807e-04 - val_dense_5_loss: 0.0220 - val_dense_6_loss: 0.0953 - val_dense_7_loss: 2.1484e-04 - val_dense_8_loss: 0.0479 - val_dense_9_loss: 0.0879 - val_dense_acc: 0.9961 - val_dense_1_acc: 0.9666 - val_dense_2_acc: 0.9701 - val_dense_3_acc: 0.9695 - val_dense_4_acc: 1.0000 - val_dense_5_acc: 0.9920 - val_dense_6_acc: 0.9674 - val_dense_7_acc: 1.0000 - val_dense_8_acc: 0.9846 - val_dense_9_acc: 0.9709\n",
      "Epoch 90/100\n",
      "400/400 [==============================] - 15s 38ms/step - loss: 0.5841 - dense_loss: 0.0172 - dense_1_loss: 0.1097 - dense_2_loss: 0.1212 - dense_3_loss: 0.1050 - dense_4_loss: 1.7757e-04 - dense_5_loss: 0.0210 - dense_6_loss: 0.0851 - dense_7_loss: 2.4707e-04 - dense_8_loss: 0.0444 - dense_9_loss: 0.0801 - dense_acc: 0.9950 - dense_1_acc: 0.9665 - dense_2_acc: 0.9730 - dense_3_acc: 0.9740 - dense_4_acc: 1.0000 - dense_5_acc: 0.9919 - dense_6_acc: 0.9730 - dense_7_acc: 1.0000 - dense_8_acc: 0.9880 - dense_9_acc: 0.9758 - val_loss: 0.6303 - val_dense_loss: 0.0142 - val_dense_1_loss: 0.1122 - val_dense_2_loss: 0.1318 - val_dense_3_loss: 0.1194 - val_dense_4_loss: 2.0282e-04 - val_dense_5_loss: 0.0222 - val_dense_6_loss: 0.0941 - val_dense_7_loss: 2.4915e-04 - val_dense_8_loss: 0.0479 - val_dense_9_loss: 0.0880 - val_dense_acc: 0.9961 - val_dense_1_acc: 0.9672 - val_dense_2_acc: 0.9709 - val_dense_3_acc: 0.9691 - val_dense_4_acc: 1.0000 - val_dense_5_acc: 0.9918 - val_dense_6_acc: 0.9680 - val_dense_7_acc: 1.0000 - val_dense_8_acc: 0.9852 - val_dense_9_acc: 0.9707\n",
      "Epoch 91/100\n",
      "400/400 [==============================] - 15s 38ms/step - loss: 0.5877 - dense_loss: 0.0178 - dense_1_loss: 0.1085 - dense_2_loss: 0.1228 - dense_3_loss: 0.1067 - dense_4_loss: 1.7245e-04 - dense_5_loss: 0.0199 - dense_6_loss: 0.0873 - dense_7_loss: 2.4465e-04 - dense_8_loss: 0.0434 - dense_9_loss: 0.0809 - dense_acc: 0.9949 - dense_1_acc: 0.9668 - dense_2_acc: 0.9722 - dense_3_acc: 0.9744 - dense_4_acc: 1.0000 - dense_5_acc: 0.9921 - dense_6_acc: 0.9711 - dense_7_acc: 1.0000 - dense_8_acc: 0.9884 - dense_9_acc: 0.9755 - val_loss: 0.6265 - val_dense_loss: 0.0141 - val_dense_1_loss: 0.1117 - val_dense_2_loss: 0.1305 - val_dense_3_loss: 0.1194 - val_dense_4_loss: 1.6563e-04 - val_dense_5_loss: 0.0219 - val_dense_6_loss: 0.0939 - val_dense_7_loss: 2.1893e-04 - val_dense_8_loss: 0.0476 - val_dense_9_loss: 0.0869 - val_dense_acc: 0.9961 - val_dense_1_acc: 0.9666 - val_dense_2_acc: 0.9715 - val_dense_3_acc: 0.9684 - val_dense_4_acc: 1.0000 - val_dense_5_acc: 0.9916 - val_dense_6_acc: 0.9682 - val_dense_7_acc: 1.0000 - val_dense_8_acc: 0.9850 - val_dense_9_acc: 0.9711\n",
      "Epoch 92/100\n",
      "400/400 [==============================] - 15s 38ms/step - loss: 0.5841 - dense_loss: 0.0173 - dense_1_loss: 0.1074 - dense_2_loss: 0.1212 - dense_3_loss: 0.1044 - dense_4_loss: 1.6072e-04 - dense_5_loss: 0.0210 - dense_6_loss: 0.0843 - dense_7_loss: 2.6008e-04 - dense_8_loss: 0.0449 - dense_9_loss: 0.0830 - dense_acc: 0.9951 - dense_1_acc: 0.9669 - dense_2_acc: 0.9733 - dense_3_acc: 0.9752 - dense_4_acc: 1.0000 - dense_5_acc: 0.9915 - dense_6_acc: 0.9729 - dense_7_acc: 1.0000 - dense_8_acc: 0.9878 - dense_9_acc: 0.9741 - val_loss: 0.6247 - val_dense_loss: 0.0141 - val_dense_1_loss: 0.1114 - val_dense_2_loss: 0.1298 - val_dense_3_loss: 0.1180 - val_dense_4_loss: 1.8224e-04 - val_dense_5_loss: 0.0222 - val_dense_6_loss: 0.0943 - val_dense_7_loss: 2.2354e-04 - val_dense_8_loss: 0.0473 - val_dense_9_loss: 0.0872 - val_dense_acc: 0.9961 - val_dense_1_acc: 0.9670 - val_dense_2_acc: 0.9701 - val_dense_3_acc: 0.9697 - val_dense_4_acc: 1.0000 - val_dense_5_acc: 0.9914 - val_dense_6_acc: 0.9691 - val_dense_7_acc: 1.0000 - val_dense_8_acc: 0.9846 - val_dense_9_acc: 0.9703\n",
      "Epoch 93/100\n",
      "400/400 [==============================] - 15s 38ms/step - loss: 0.5802 - dense_loss: 0.0186 - dense_1_loss: 0.1088 - dense_2_loss: 0.1198 - dense_3_loss: 0.1056 - dense_4_loss: 1.5330e-04 - dense_5_loss: 0.0197 - dense_6_loss: 0.0837 - dense_7_loss: 2.7733e-04 - dense_8_loss: 0.0435 - dense_9_loss: 0.0801 - dense_acc: 0.9944 - dense_1_acc: 0.9664 - dense_2_acc: 0.9742 - dense_3_acc: 0.9758 - dense_4_acc: 1.0000 - dense_5_acc: 0.9923 - dense_6_acc: 0.9732 - dense_7_acc: 1.0000 - dense_8_acc: 0.9895 - dense_9_acc: 0.9755 - val_loss: 0.6200 - val_dense_loss: 0.0141 - val_dense_1_loss: 0.1109 - val_dense_2_loss: 0.1287 - val_dense_3_loss: 0.1171 - val_dense_4_loss: 1.7180e-04 - val_dense_5_loss: 0.0219 - val_dense_6_loss: 0.0935 - val_dense_7_loss: 2.1521e-04 - val_dense_8_loss: 0.0469 - val_dense_9_loss: 0.0865 - val_dense_acc: 0.9961 - val_dense_1_acc: 0.9670 - val_dense_2_acc: 0.9715 - val_dense_3_acc: 0.9703 - val_dense_4_acc: 1.0000 - val_dense_5_acc: 0.9916 - val_dense_6_acc: 0.9686 - val_dense_7_acc: 1.0000 - val_dense_8_acc: 0.9850 - val_dense_9_acc: 0.9707\n",
      "Epoch 94/100\n",
      "400/400 [==============================] - 15s 38ms/step - loss: 0.5811 - dense_loss: 0.0179 - dense_1_loss: 0.1109 - dense_2_loss: 0.1201 - dense_3_loss: 0.1045 - dense_4_loss: 1.6148e-04 - dense_5_loss: 0.0192 - dense_6_loss: 0.0826 - dense_7_loss: 2.4268e-04 - dense_8_loss: 0.0428 - dense_9_loss: 0.0827 - dense_acc: 0.9947 - dense_1_acc: 0.9661 - dense_2_acc: 0.9735 - dense_3_acc: 0.9752 - dense_4_acc: 1.0000 - dense_5_acc: 0.9926 - dense_6_acc: 0.9738 - dense_7_acc: 1.0000 - dense_8_acc: 0.9888 - dense_9_acc: 0.9743 - val_loss: 0.6159 - val_dense_loss: 0.0141 - val_dense_1_loss: 0.1105 - val_dense_2_loss: 0.1275 - val_dense_3_loss: 0.1161 - val_dense_4_loss: 1.7985e-04 - val_dense_5_loss: 0.0215 - val_dense_6_loss: 0.0934 - val_dense_7_loss: 2.1324e-04 - val_dense_8_loss: 0.0464 - val_dense_9_loss: 0.0860 - val_dense_acc: 0.9961 - val_dense_1_acc: 0.9668 - val_dense_2_acc: 0.9723 - val_dense_3_acc: 0.9709 - val_dense_4_acc: 1.0000 - val_dense_5_acc: 0.9920 - val_dense_6_acc: 0.9680 - val_dense_7_acc: 1.0000 - val_dense_8_acc: 0.9846 - val_dense_9_acc: 0.9705\n",
      "Epoch 95/100\n",
      "400/400 [==============================] - 15s 38ms/step - loss: 0.5776 - dense_loss: 0.0179 - dense_1_loss: 0.1103 - dense_2_loss: 0.1169 - dense_3_loss: 0.1051 - dense_4_loss: 1.5284e-04 - dense_5_loss: 0.0197 - dense_6_loss: 0.0836 - dense_7_loss: 2.8480e-04 - dense_8_loss: 0.0427 - dense_9_loss: 0.0810 - dense_acc: 0.9950 - dense_1_acc: 0.9660 - dense_2_acc: 0.9738 - dense_3_acc: 0.9751 - dense_4_acc: 1.0000 - dense_5_acc: 0.9924 - dense_6_acc: 0.9733 - dense_7_acc: 1.0000 - dense_8_acc: 0.9893 - dense_9_acc: 0.9749 - val_loss: 0.6134 - val_dense_loss: 0.0141 - val_dense_1_loss: 0.1105 - val_dense_2_loss: 0.1263 - val_dense_3_loss: 0.1156 - val_dense_4_loss: 1.6441e-04 - val_dense_5_loss: 0.0216 - val_dense_6_loss: 0.0928 - val_dense_7_loss: 2.1140e-04 - val_dense_8_loss: 0.0462 - val_dense_9_loss: 0.0858 - val_dense_acc: 0.9961 - val_dense_1_acc: 0.9666 - val_dense_2_acc: 0.9725 - val_dense_3_acc: 0.9699 - val_dense_4_acc: 1.0000 - val_dense_5_acc: 0.9918 - val_dense_6_acc: 0.9691 - val_dense_7_acc: 1.0000 - val_dense_8_acc: 0.9855 - val_dense_9_acc: 0.9709\n",
      "Epoch 96/100\n",
      "400/400 [==============================] - 15s 38ms/step - loss: 0.5645 - dense_loss: 0.0178 - dense_1_loss: 0.1047 - dense_2_loss: 0.1159 - dense_3_loss: 0.1027 - dense_4_loss: 1.5493e-04 - dense_5_loss: 0.0200 - dense_6_loss: 0.0834 - dense_7_loss: 2.2481e-04 - dense_8_loss: 0.0417 - dense_9_loss: 0.0778 - dense_acc: 0.9948 - dense_1_acc: 0.9682 - dense_2_acc: 0.9754 - dense_3_acc: 0.9761 - dense_4_acc: 1.0000 - dense_5_acc: 0.9921 - dense_6_acc: 0.9735 - dense_7_acc: 1.0000 - dense_8_acc: 0.9893 - dense_9_acc: 0.9763 - val_loss: 0.6103 - val_dense_loss: 0.0141 - val_dense_1_loss: 0.1102 - val_dense_2_loss: 0.1254 - val_dense_3_loss: 0.1147 - val_dense_4_loss: 1.7870e-04 - val_dense_5_loss: 0.0213 - val_dense_6_loss: 0.0926 - val_dense_7_loss: 2.1054e-04 - val_dense_8_loss: 0.0464 - val_dense_9_loss: 0.0853 - val_dense_acc: 0.9961 - val_dense_1_acc: 0.9674 - val_dense_2_acc: 0.9721 - val_dense_3_acc: 0.9701 - val_dense_4_acc: 1.0000 - val_dense_5_acc: 0.9920 - val_dense_6_acc: 0.9682 - val_dense_7_acc: 1.0000 - val_dense_8_acc: 0.9854 - val_dense_9_acc: 0.9701\n"
     ]
    },
    {
     "name": "stdout",
     "output_type": "stream",
     "text": [
      "Epoch 97/100\n",
      "400/400 [==============================] - 15s 38ms/step - loss: 0.5612 - dense_loss: 0.0186 - dense_1_loss: 0.1060 - dense_2_loss: 0.1144 - dense_3_loss: 0.1002 - dense_4_loss: 1.7818e-04 - dense_5_loss: 0.0195 - dense_6_loss: 0.0817 - dense_7_loss: 2.6893e-04 - dense_8_loss: 0.0410 - dense_9_loss: 0.0794 - dense_acc: 0.9945 - dense_1_acc: 0.9676 - dense_2_acc: 0.9763 - dense_3_acc: 0.9779 - dense_4_acc: 1.0000 - dense_5_acc: 0.9926 - dense_6_acc: 0.9737 - dense_7_acc: 1.0000 - dense_8_acc: 0.9890 - dense_9_acc: 0.9757 - val_loss: 0.6069 - val_dense_loss: 0.0141 - val_dense_1_loss: 0.1098 - val_dense_2_loss: 0.1245 - val_dense_3_loss: 0.1135 - val_dense_4_loss: 1.6136e-04 - val_dense_5_loss: 0.0214 - val_dense_6_loss: 0.0918 - val_dense_7_loss: 2.2032e-04 - val_dense_8_loss: 0.0458 - val_dense_9_loss: 0.0856 - val_dense_acc: 0.9961 - val_dense_1_acc: 0.9674 - val_dense_2_acc: 0.9723 - val_dense_3_acc: 0.9707 - val_dense_4_acc: 1.0000 - val_dense_5_acc: 0.9918 - val_dense_6_acc: 0.9699 - val_dense_7_acc: 1.0000 - val_dense_8_acc: 0.9854 - val_dense_9_acc: 0.9703\n",
      "Epoch 98/100\n",
      "400/400 [==============================] - 15s 38ms/step - loss: 0.5709 - dense_loss: 0.0175 - dense_1_loss: 0.1103 - dense_2_loss: 0.1171 - dense_3_loss: 0.1013 - dense_4_loss: 1.4481e-04 - dense_5_loss: 0.0199 - dense_6_loss: 0.0832 - dense_7_loss: 2.5976e-04 - dense_8_loss: 0.0419 - dense_9_loss: 0.0793 - dense_acc: 0.9951 - dense_1_acc: 0.9664 - dense_2_acc: 0.9744 - dense_3_acc: 0.9761 - dense_4_acc: 1.0000 - dense_5_acc: 0.9920 - dense_6_acc: 0.9736 - dense_7_acc: 1.0000 - dense_8_acc: 0.9889 - dense_9_acc: 0.9765 - val_loss: 0.6046 - val_dense_loss: 0.0141 - val_dense_1_loss: 0.1094 - val_dense_2_loss: 0.1233 - val_dense_3_loss: 0.1133 - val_dense_4_loss: 1.8567e-04 - val_dense_5_loss: 0.0214 - val_dense_6_loss: 0.0921 - val_dense_7_loss: 2.2294e-04 - val_dense_8_loss: 0.0458 - val_dense_9_loss: 0.0849 - val_dense_acc: 0.9961 - val_dense_1_acc: 0.9676 - val_dense_2_acc: 0.9729 - val_dense_3_acc: 0.9717 - val_dense_4_acc: 1.0000 - val_dense_5_acc: 0.9918 - val_dense_6_acc: 0.9680 - val_dense_7_acc: 1.0000 - val_dense_8_acc: 0.9863 - val_dense_9_acc: 0.9709\n",
      "Epoch 99/100\n",
      "400/400 [==============================] - 15s 38ms/step - loss: 0.5656 - dense_loss: 0.0179 - dense_1_loss: 0.1068 - dense_2_loss: 0.1155 - dense_3_loss: 0.1004 - dense_4_loss: 1.6249e-04 - dense_5_loss: 0.0195 - dense_6_loss: 0.0847 - dense_7_loss: 2.3386e-04 - dense_8_loss: 0.0401 - dense_9_loss: 0.0803 - dense_acc: 0.9949 - dense_1_acc: 0.9672 - dense_2_acc: 0.9743 - dense_3_acc: 0.9761 - dense_4_acc: 1.0000 - dense_5_acc: 0.9924 - dense_6_acc: 0.9728 - dense_7_acc: 1.0000 - dense_8_acc: 0.9898 - dense_9_acc: 0.9754 - val_loss: 0.6012 - val_dense_loss: 0.0140 - val_dense_1_loss: 0.1090 - val_dense_2_loss: 0.1225 - val_dense_3_loss: 0.1124 - val_dense_4_loss: 1.6410e-04 - val_dense_5_loss: 0.0216 - val_dense_6_loss: 0.0915 - val_dense_7_loss: 2.1680e-04 - val_dense_8_loss: 0.0452 - val_dense_9_loss: 0.0846 - val_dense_acc: 0.9961 - val_dense_1_acc: 0.9676 - val_dense_2_acc: 0.9736 - val_dense_3_acc: 0.9713 - val_dense_4_acc: 1.0000 - val_dense_5_acc: 0.9920 - val_dense_6_acc: 0.9693 - val_dense_7_acc: 1.0000 - val_dense_8_acc: 0.9855 - val_dense_9_acc: 0.9709\n",
      "Epoch 100/100\n",
      "400/400 [==============================] - 15s 38ms/step - loss: 0.5583 - dense_loss: 0.0173 - dense_1_loss: 0.1069 - dense_2_loss: 0.1130 - dense_3_loss: 0.1016 - dense_4_loss: 1.6481e-04 - dense_5_loss: 0.0190 - dense_6_loss: 0.0807 - dense_7_loss: 2.2263e-04 - dense_8_loss: 0.0396 - dense_9_loss: 0.0798 - dense_acc: 0.9953 - dense_1_acc: 0.9669 - dense_2_acc: 0.9764 - dense_3_acc: 0.9764 - dense_4_acc: 1.0000 - dense_5_acc: 0.9927 - dense_6_acc: 0.9745 - dense_7_acc: 1.0000 - dense_8_acc: 0.9897 - dense_9_acc: 0.9754 - val_loss: 0.5978 - val_dense_loss: 0.0140 - val_dense_1_loss: 0.1085 - val_dense_2_loss: 0.1214 - val_dense_3_loss: 0.1117 - val_dense_4_loss: 1.6050e-04 - val_dense_5_loss: 0.0212 - val_dense_6_loss: 0.0916 - val_dense_7_loss: 2.0330e-04 - val_dense_8_loss: 0.0450 - val_dense_9_loss: 0.0841 - val_dense_acc: 0.9961 - val_dense_1_acc: 0.9674 - val_dense_2_acc: 0.9730 - val_dense_3_acc: 0.9713 - val_dense_4_acc: 1.0000 - val_dense_5_acc: 0.9918 - val_dense_6_acc: 0.9691 - val_dense_7_acc: 1.0000 - val_dense_8_acc: 0.9854 - val_dense_9_acc: 0.9717\n"
     ]
    }
   ],
   "source": [
    "model.compile( \n",
    "    optimizer=Adam(lr=0.005, decay=0.01),\n",
    "    loss='categorical_crossentropy',\n",
    "    metrics=['acc'] \n",
    ")\n",
    "\n",
    "s0 = np.zeros((m, n_s))\n",
    "c0 = np.zeros((m, n_s))\n",
    "\n",
    "Y = list(Y.swapaxes(0,1))\n",
    "Yt = list(Yt.swapaxes(0,1))\n",
    "\n",
    "history = model.fit([X, s0, c0], Y, epochs=100, \n",
    "                    validation_data=([Xt,np.zeros((t, n_s)),np.zeros((t, n_s))],Yt), \n",
    "                    batch_size=BATCH_SIZE, verbose=1)\n",
    "\n",
    "model.save_weights('attention_weights.h5')"
   ]
  },
  {
   "cell_type": "code",
   "execution_count": 35,
   "id": "0bf90f19",
   "metadata": {},
   "outputs": [],
   "source": [
    "model.save(MODEL_OUTPUT_PATH)"
   ]
  },
  {
   "cell_type": "code",
   "execution_count": 32,
   "id": "be62a363",
   "metadata": {},
   "outputs": [
    {
     "data": {
      "image/png": "[encoded data removed]",
      "text/plain": [
       "<Figure size 432x288 with 1 Axes>"
      ]
     },
     "metadata": {
      "needs_background": "light"
     },
     "output_type": "display_data"
    }
   ],
   "source": [
    "%matplotlib inline\n",
    "import matplotlib.pyplot as plt\n",
    "epoch_list = history.epoch\n",
    "plt.plot(epoch_list, history.history['loss'], label='Train Loss')\n",
    "plt.plot(epoch_list, history.history['val_loss'], label='Validation Loss')\n",
    "plt.ylabel('Loss');plt.xlabel('Epoch');plt.title('Loss')\n",
    "plt.legend(loc=\"best\");plt.grid(color='gray', linestyle='-', linewidth=0.5)"
   ]
  },
  {
   "cell_type": "code",
   "execution_count": 53,
   "id": "24707bbf",
   "metadata": {},
   "outputs": [
    {
     "name": "stdout",
     "output_type": "stream",
     "text": [
      "[(None, 30, 36)]\n"
     ]
    },
    {
     "ename": "ValueError",
     "evalue": "Data cardinality is ambiguous:\n  x sizes: 30, 64, 64\nMake sure all arrays contain the same number of samples.",
     "output_type": "error",
     "traceback": [
      "\u001b[1;31m---------------------------------------------------------------------------\u001b[0m",
      "\u001b[1;31mValueError\u001b[0m                                Traceback (most recent call last)",
      "\u001b[1;32m<ipython-input-53-c6329971d309>\u001b[0m in \u001b[0;36m<module>\u001b[1;34m\u001b[0m\n\u001b[0;32m     14\u001b[0m \u001b[1;33m\u001b[0m\u001b[0m\n\u001b[0;32m     15\u001b[0m \u001b[1;32mfor\u001b[0m \u001b[0mexample\u001b[0m \u001b[1;32min\u001b[0m \u001b[0mEXAMPLES\u001b[0m\u001b[1;33m:\u001b[0m\u001b[1;33m\u001b[0m\u001b[1;33m\u001b[0m\u001b[0m\n\u001b[1;32m---> 16\u001b[1;33m     \u001b[0mprint\u001b[0m\u001b[1;33m(\u001b[0m\u001b[1;34mf\"{example} -> {getTranslation(example,model)}\"\u001b[0m\u001b[1;33m)\u001b[0m\u001b[1;33m\u001b[0m\u001b[1;33m\u001b[0m\u001b[0m\n\u001b[0m",
      "\u001b[1;32m<ipython-input-53-c6329971d309>\u001b[0m in \u001b[0;36mgetTranslation\u001b[1;34m(date, model)\u001b[0m\n\u001b[0;32m      6\u001b[0m     \u001b[0mdate\u001b[0m \u001b[1;33m=\u001b[0m \u001b[0mdate\u001b[0m\u001b[1;33m.\u001b[0m\u001b[0mlower\u001b[0m\u001b[1;33m(\u001b[0m\u001b[1;33m)\u001b[0m\u001b[1;33m.\u001b[0m\u001b[0mreplace\u001b[0m\u001b[1;33m(\u001b[0m\u001b[1;34m','\u001b[0m\u001b[1;33m,\u001b[0m\u001b[1;34m''\u001b[0m\u001b[1;33m)\u001b[0m\u001b[1;33m\u001b[0m\u001b[1;33m\u001b[0m\u001b[0m\n\u001b[0;32m      7\u001b[0m     \u001b[0msource\u001b[0m \u001b[1;33m=\u001b[0m \u001b[0mnp\u001b[0m\u001b[1;33m.\u001b[0m\u001b[0marray\u001b[0m\u001b[1;33m(\u001b[0m\u001b[0mstring_to_ohe\u001b[0m\u001b[1;33m(\u001b[0m\u001b[0mdate\u001b[0m\u001b[1;33m,\u001b[0m \u001b[0mTx\u001b[0m\u001b[1;33m,\u001b[0m \u001b[0mhuman_vocab\u001b[0m\u001b[1;33m)\u001b[0m\u001b[1;33m[\u001b[0m\u001b[1;36m0\u001b[0m\u001b[1;33m]\u001b[0m\u001b[1;33m)\u001b[0m\u001b[1;33m\u001b[0m\u001b[1;33m\u001b[0m\u001b[0m\n\u001b[1;32m----> 8\u001b[1;33m     \u001b[0mprediction\u001b[0m \u001b[1;33m=\u001b[0m \u001b[0mnp\u001b[0m\u001b[1;33m.\u001b[0m\u001b[0marray\u001b[0m\u001b[1;33m(\u001b[0m\u001b[0mmodel\u001b[0m\u001b[1;33m.\u001b[0m\u001b[0mpredict\u001b[0m\u001b[1;33m(\u001b[0m\u001b[1;33m[\u001b[0m\u001b[0msource\u001b[0m\u001b[1;33m,\u001b[0m\u001b[0ms0\u001b[0m\u001b[1;33m,\u001b[0m\u001b[0mc0\u001b[0m\u001b[1;33m]\u001b[0m\u001b[1;33m)\u001b[0m\u001b[1;33m)\u001b[0m\u001b[1;33m\u001b[0m\u001b[1;33m\u001b[0m\u001b[0m\n\u001b[0m\u001b[0;32m      9\u001b[0m     \u001b[0mprediction\u001b[0m \u001b[1;33m=\u001b[0m \u001b[0mnp\u001b[0m\u001b[1;33m.\u001b[0m\u001b[0msqueeze\u001b[0m\u001b[1;33m(\u001b[0m\u001b[0mprediction\u001b[0m\u001b[1;33m.\u001b[0m\u001b[0mswapaxes\u001b[0m\u001b[1;33m(\u001b[0m\u001b[1;36m0\u001b[0m\u001b[1;33m,\u001b[0m\u001b[1;36m1\u001b[0m\u001b[1;33m)\u001b[0m\u001b[1;33m)\u001b[0m\u001b[1;33m\u001b[0m\u001b[1;33m\u001b[0m\u001b[0m\n\u001b[0;32m     10\u001b[0m     \u001b[1;32mreturn\u001b[0m \u001b[0moutput_to_date\u001b[0m\u001b[1;33m(\u001b[0m\u001b[0mprediction\u001b[0m\u001b[1;33m,\u001b[0m\u001b[0mmachine_vocab\u001b[0m\u001b[1;33m)\u001b[0m\u001b[1;33m\u001b[0m\u001b[1;33m\u001b[0m\u001b[0m\n",
      "\u001b[1;32m~\\anaconda3\\envs\\tensorflow-2.4-cuda11\\lib\\site-packages\\tensorflow\\python\\keras\\engine\\training.py\u001b[0m in \u001b[0;36mpredict\u001b[1;34m(self, x, batch_size, verbose, steps, callbacks, max_queue_size, workers, use_multiprocessing)\u001b[0m\n\u001b[0;32m   1596\u001b[0m                         '. Consider setting it to AutoShardPolicy.DATA.')\n\u001b[0;32m   1597\u001b[0m \u001b[1;33m\u001b[0m\u001b[0m\n\u001b[1;32m-> 1598\u001b[1;33m       data_handler = data_adapter.DataHandler(\n\u001b[0m\u001b[0;32m   1599\u001b[0m           \u001b[0mx\u001b[0m\u001b[1;33m=\u001b[0m\u001b[0mx\u001b[0m\u001b[1;33m,\u001b[0m\u001b[1;33m\u001b[0m\u001b[1;33m\u001b[0m\u001b[0m\n\u001b[0;32m   1600\u001b[0m           \u001b[0mbatch_size\u001b[0m\u001b[1;33m=\u001b[0m\u001b[0mbatch_size\u001b[0m\u001b[1;33m,\u001b[0m\u001b[1;33m\u001b[0m\u001b[1;33m\u001b[0m\u001b[0m\n",
      "\u001b[1;32m~\\anaconda3\\envs\\tensorflow-2.4-cuda11\\lib\\site-packages\\tensorflow\\python\\keras\\engine\\data_adapter.py\u001b[0m in \u001b[0;36m__init__\u001b[1;34m(self, x, y, sample_weight, batch_size, steps_per_epoch, initial_epoch, epochs, shuffle, class_weight, max_queue_size, workers, use_multiprocessing, model, steps_per_execution)\u001b[0m\n\u001b[0;32m   1098\u001b[0m \u001b[1;33m\u001b[0m\u001b[0m\n\u001b[0;32m   1099\u001b[0m     \u001b[0madapter_cls\u001b[0m \u001b[1;33m=\u001b[0m \u001b[0mselect_data_adapter\u001b[0m\u001b[1;33m(\u001b[0m\u001b[0mx\u001b[0m\u001b[1;33m,\u001b[0m \u001b[0my\u001b[0m\u001b[1;33m)\u001b[0m\u001b[1;33m\u001b[0m\u001b[1;33m\u001b[0m\u001b[0m\n\u001b[1;32m-> 1100\u001b[1;33m     self._adapter = adapter_cls(\n\u001b[0m\u001b[0;32m   1101\u001b[0m         \u001b[0mx\u001b[0m\u001b[1;33m,\u001b[0m\u001b[1;33m\u001b[0m\u001b[1;33m\u001b[0m\u001b[0m\n\u001b[0;32m   1102\u001b[0m         \u001b[0my\u001b[0m\u001b[1;33m,\u001b[0m\u001b[1;33m\u001b[0m\u001b[1;33m\u001b[0m\u001b[0m\n",
      "\u001b[1;32m~\\anaconda3\\envs\\tensorflow-2.4-cuda11\\lib\\site-packages\\tensorflow\\python\\keras\\engine\\data_adapter.py\u001b[0m in \u001b[0;36m__init__\u001b[1;34m(self, x, y, sample_weights, sample_weight_modes, batch_size, epochs, steps, shuffle, **kwargs)\u001b[0m\n\u001b[0;32m    272\u001b[0m \u001b[1;33m\u001b[0m\u001b[0m\n\u001b[0;32m    273\u001b[0m     \u001b[0mnum_samples\u001b[0m \u001b[1;33m=\u001b[0m \u001b[0mset\u001b[0m\u001b[1;33m(\u001b[0m\u001b[0mint\u001b[0m\u001b[1;33m(\u001b[0m\u001b[0mi\u001b[0m\u001b[1;33m.\u001b[0m\u001b[0mshape\u001b[0m\u001b[1;33m[\u001b[0m\u001b[1;36m0\u001b[0m\u001b[1;33m]\u001b[0m\u001b[1;33m)\u001b[0m \u001b[1;32mfor\u001b[0m \u001b[0mi\u001b[0m \u001b[1;32min\u001b[0m \u001b[0mnest\u001b[0m\u001b[1;33m.\u001b[0m\u001b[0mflatten\u001b[0m\u001b[1;33m(\u001b[0m\u001b[0minputs\u001b[0m\u001b[1;33m)\u001b[0m\u001b[1;33m)\u001b[0m\u001b[1;33m.\u001b[0m\u001b[0mpop\u001b[0m\u001b[1;33m(\u001b[0m\u001b[1;33m)\u001b[0m\u001b[1;33m\u001b[0m\u001b[1;33m\u001b[0m\u001b[0m\n\u001b[1;32m--> 274\u001b[1;33m     \u001b[0m_check_data_cardinality\u001b[0m\u001b[1;33m(\u001b[0m\u001b[0minputs\u001b[0m\u001b[1;33m)\u001b[0m\u001b[1;33m\u001b[0m\u001b[1;33m\u001b[0m\u001b[0m\n\u001b[0m\u001b[0;32m    275\u001b[0m \u001b[1;33m\u001b[0m\u001b[0m\n\u001b[0;32m    276\u001b[0m     \u001b[1;31m# If batch_size is not passed but steps is, calculate from the input data.\u001b[0m\u001b[1;33m\u001b[0m\u001b[1;33m\u001b[0m\u001b[1;33m\u001b[0m\u001b[0m\n",
      "\u001b[1;32m~\\anaconda3\\envs\\tensorflow-2.4-cuda11\\lib\\site-packages\\tensorflow\\python\\keras\\engine\\data_adapter.py\u001b[0m in \u001b[0;36m_check_data_cardinality\u001b[1;34m(data)\u001b[0m\n\u001b[0;32m   1527\u001b[0m           label, \", \".join(str(i.shape[0]) for i in nest.flatten(single_data)))\n\u001b[0;32m   1528\u001b[0m     \u001b[0mmsg\u001b[0m \u001b[1;33m+=\u001b[0m \u001b[1;34m\"Make sure all arrays contain the same number of samples.\"\u001b[0m\u001b[1;33m\u001b[0m\u001b[1;33m\u001b[0m\u001b[0m\n\u001b[1;32m-> 1529\u001b[1;33m     \u001b[1;32mraise\u001b[0m \u001b[0mValueError\u001b[0m\u001b[1;33m(\u001b[0m\u001b[0mmsg\u001b[0m\u001b[1;33m)\u001b[0m\u001b[1;33m\u001b[0m\u001b[1;33m\u001b[0m\u001b[0m\n\u001b[0m\u001b[0;32m   1530\u001b[0m \u001b[1;33m\u001b[0m\u001b[0m\n\u001b[0;32m   1531\u001b[0m \u001b[1;33m\u001b[0m\u001b[0m\n",
      "\u001b[1;31mValueError\u001b[0m: Data cardinality is ambiguous:\n  x sizes: 30, 64, 64\nMake sure all arrays contain the same number of samples."
     ]
    }
   ],
   "source": [
    "model = load_model(MODEL_OUTPUT_PATH)\n",
    "print(model.layers[0].input_shape)\n",
    "s0 = np.zeros((n_s,))\n",
    "c0 = np.zeros((n_s,))\n",
    "def getTranslation(date,model):\n",
    "    date = date.lower().replace(',','')\n",
    "    source = np.array(string_to_ohe(date, Tx, human_vocab)[0])\n",
    "    prediction = np.array(model.predict([source,s0[],c0]))\n",
    "    prediction = np.squeeze(prediction.swapaxes(0,1))\n",
    "    return output_to_date(prediction,machine_vocab)\n",
    "\n",
    "EXAMPLES = ['3 May 1979', '5 April 09', '21th of August 2016', 'Tue 10 Jul 2007', 'Saturday May 9 2018', 'March 3 2001', 'March 3rd 2001', \n",
    "            '1 March 2001','jun 10 2017','11/07/2002']\n",
    "\n",
    "for example in EXAMPLES:\n",
    "    print(f\"{example} -> {getTranslation(example,model)}\")"
   ]
  },
  {
   "cell_type": "code",
   "execution_count": null,
   "id": "9a74409b",
   "metadata": {},
   "outputs": [],
   "source": []
  },
  {
   "cell_type": "code",
   "execution_count": null,
   "id": "6e16b9ea",
   "metadata": {},
   "outputs": [],
   "source": []
  }
 ],
 "metadata": {
  "kernelspec": {
   "display_name": "Python [conda env:tensorflow-2.4-cuda11] *",
   "language": "python",
   "name": "conda-env-tensorflow-2.4-cuda11-py"
  },
  "language_info": {
   "codemirror_mode": {
    "name": "ipython",
    "version": 3
   },
   "file_extension": ".py",
   "mimetype": "text/x-python",
   "name": "python",
   "nbconvert_exporter": "python",
   "pygments_lexer": "ipython3",
   "version": "3.8.5"
  }
 },
 "nbformat": 4,
 "nbformat_minor": 5
}
